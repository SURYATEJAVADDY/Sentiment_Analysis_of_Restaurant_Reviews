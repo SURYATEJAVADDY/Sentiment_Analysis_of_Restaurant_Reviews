{
  "nbformat": 4,
  "nbformat_minor": 0,
  "metadata": {
    "colab": {
      "provenance": []
    },
    "kernelspec": {
      "name": "python3",
      "display_name": "Python 3"
    },
    "language_info": {
      "name": "python"
    }
  },
  "cells": [
    {
      "cell_type": "markdown",
      "source": [
        "# Working with Dataset"
      ],
      "metadata": {
        "id": "0p1soqw8dr5-"
      }
    },
    {
      "cell_type": "code",
      "execution_count": 1,
      "metadata": {
        "id": "FLvehCeydd1o"
      },
      "outputs": [],
      "source": [
        "import pandas as pd\n",
        "import numpy as np\n",
        "import matplotlib.pyplot as plt\n",
        "import seaborn as sns\n",
        "import nltk"
      ]
    },
    {
      "cell_type": "code",
      "source": [],
      "metadata": {
        "id": "iUvz3QjDqD1n"
      },
      "execution_count": 1,
      "outputs": []
    },
    {
      "cell_type": "code",
      "source": [
        "df=pd.read_table(r\"/content/Restaurant_Reviews.tsv\")"
      ],
      "metadata": {
        "id": "UMjmfcgueNkd"
      },
      "execution_count": 3,
      "outputs": []
    },
    {
      "cell_type": "code",
      "source": [
        "df.info()"
      ],
      "metadata": {
        "colab": {
          "base_uri": "https://localhost:8080/"
        },
        "id": "IzBma4EaeZKw",
        "outputId": "1084f752-6572-479a-ea90-e6a29addafa7"
      },
      "execution_count": 4,
      "outputs": [
        {
          "output_type": "stream",
          "name": "stdout",
          "text": [
            "<class 'pandas.core.frame.DataFrame'>\n",
            "RangeIndex: 1000 entries, 0 to 999\n",
            "Data columns (total 2 columns):\n",
            " #   Column  Non-Null Count  Dtype \n",
            "---  ------  --------------  ----- \n",
            " 0   Review  1000 non-null   object\n",
            " 1   Liked   1000 non-null   int64 \n",
            "dtypes: int64(1), object(1)\n",
            "memory usage: 15.8+ KB\n"
          ]
        }
      ]
    },
    {
      "cell_type": "code",
      "source": [
        "df.describe()"
      ],
      "metadata": {
        "colab": {
          "base_uri": "https://localhost:8080/",
          "height": 300
        },
        "id": "b3Hb82v2eZFV",
        "outputId": "43aa891f-afa1-49c4-c2da-ea895e2b85a0"
      },
      "execution_count": 5,
      "outputs": [
        {
          "output_type": "execute_result",
          "data": {
            "text/plain": [
              "            Liked\n",
              "count  1000.00000\n",
              "mean      0.50000\n",
              "std       0.50025\n",
              "min       0.00000\n",
              "25%       0.00000\n",
              "50%       0.50000\n",
              "75%       1.00000\n",
              "max       1.00000"
            ],
            "text/html": [
              "\n",
              "  <div id=\"df-309fff23-e72b-4664-8015-ae00e03a6468\" class=\"colab-df-container\">\n",
              "    <div>\n",
              "<style scoped>\n",
              "    .dataframe tbody tr th:only-of-type {\n",
              "        vertical-align: middle;\n",
              "    }\n",
              "\n",
              "    .dataframe tbody tr th {\n",
              "        vertical-align: top;\n",
              "    }\n",
              "\n",
              "    .dataframe thead th {\n",
              "        text-align: right;\n",
              "    }\n",
              "</style>\n",
              "<table border=\"1\" class=\"dataframe\">\n",
              "  <thead>\n",
              "    <tr style=\"text-align: right;\">\n",
              "      <th></th>\n",
              "      <th>Liked</th>\n",
              "    </tr>\n",
              "  </thead>\n",
              "  <tbody>\n",
              "    <tr>\n",
              "      <th>count</th>\n",
              "      <td>1000.00000</td>\n",
              "    </tr>\n",
              "    <tr>\n",
              "      <th>mean</th>\n",
              "      <td>0.50000</td>\n",
              "    </tr>\n",
              "    <tr>\n",
              "      <th>std</th>\n",
              "      <td>0.50025</td>\n",
              "    </tr>\n",
              "    <tr>\n",
              "      <th>min</th>\n",
              "      <td>0.00000</td>\n",
              "    </tr>\n",
              "    <tr>\n",
              "      <th>25%</th>\n",
              "      <td>0.00000</td>\n",
              "    </tr>\n",
              "    <tr>\n",
              "      <th>50%</th>\n",
              "      <td>0.50000</td>\n",
              "    </tr>\n",
              "    <tr>\n",
              "      <th>75%</th>\n",
              "      <td>1.00000</td>\n",
              "    </tr>\n",
              "    <tr>\n",
              "      <th>max</th>\n",
              "      <td>1.00000</td>\n",
              "    </tr>\n",
              "  </tbody>\n",
              "</table>\n",
              "</div>\n",
              "    <div class=\"colab-df-buttons\">\n",
              "\n",
              "  <div class=\"colab-df-container\">\n",
              "    <button class=\"colab-df-convert\" onclick=\"convertToInteractive('df-309fff23-e72b-4664-8015-ae00e03a6468')\"\n",
              "            title=\"Convert this dataframe to an interactive table.\"\n",
              "            style=\"display:none;\">\n",
              "\n",
              "  <svg xmlns=\"http://www.w3.org/2000/svg\" height=\"24px\" viewBox=\"0 -960 960 960\">\n",
              "    <path d=\"M120-120v-720h720v720H120Zm60-500h600v-160H180v160Zm220 220h160v-160H400v160Zm0 220h160v-160H400v160ZM180-400h160v-160H180v160Zm440 0h160v-160H620v160ZM180-180h160v-160H180v160Zm440 0h160v-160H620v160Z\"/>\n",
              "  </svg>\n",
              "    </button>\n",
              "\n",
              "  <style>\n",
              "    .colab-df-container {\n",
              "      display:flex;\n",
              "      gap: 12px;\n",
              "    }\n",
              "\n",
              "    .colab-df-convert {\n",
              "      background-color: #E8F0FE;\n",
              "      border: none;\n",
              "      border-radius: 50%;\n",
              "      cursor: pointer;\n",
              "      display: none;\n",
              "      fill: #1967D2;\n",
              "      height: 32px;\n",
              "      padding: 0 0 0 0;\n",
              "      width: 32px;\n",
              "    }\n",
              "\n",
              "    .colab-df-convert:hover {\n",
              "      background-color: #E2EBFA;\n",
              "      box-shadow: 0px 1px 2px rgba(60, 64, 67, 0.3), 0px 1px 3px 1px rgba(60, 64, 67, 0.15);\n",
              "      fill: #174EA6;\n",
              "    }\n",
              "\n",
              "    .colab-df-buttons div {\n",
              "      margin-bottom: 4px;\n",
              "    }\n",
              "\n",
              "    [theme=dark] .colab-df-convert {\n",
              "      background-color: #3B4455;\n",
              "      fill: #D2E3FC;\n",
              "    }\n",
              "\n",
              "    [theme=dark] .colab-df-convert:hover {\n",
              "      background-color: #434B5C;\n",
              "      box-shadow: 0px 1px 3px 1px rgba(0, 0, 0, 0.15);\n",
              "      filter: drop-shadow(0px 1px 2px rgba(0, 0, 0, 0.3));\n",
              "      fill: #FFFFFF;\n",
              "    }\n",
              "  </style>\n",
              "\n",
              "    <script>\n",
              "      const buttonEl =\n",
              "        document.querySelector('#df-309fff23-e72b-4664-8015-ae00e03a6468 button.colab-df-convert');\n",
              "      buttonEl.style.display =\n",
              "        google.colab.kernel.accessAllowed ? 'block' : 'none';\n",
              "\n",
              "      async function convertToInteractive(key) {\n",
              "        const element = document.querySelector('#df-309fff23-e72b-4664-8015-ae00e03a6468');\n",
              "        const dataTable =\n",
              "          await google.colab.kernel.invokeFunction('convertToInteractive',\n",
              "                                                    [key], {});\n",
              "        if (!dataTable) return;\n",
              "\n",
              "        const docLinkHtml = 'Like what you see? Visit the ' +\n",
              "          '<a target=\"_blank\" href=https://colab.research.google.com/notebooks/data_table.ipynb>data table notebook</a>'\n",
              "          + ' to learn more about interactive tables.';\n",
              "        element.innerHTML = '';\n",
              "        dataTable['output_type'] = 'display_data';\n",
              "        await google.colab.output.renderOutput(dataTable, element);\n",
              "        const docLink = document.createElement('div');\n",
              "        docLink.innerHTML = docLinkHtml;\n",
              "        element.appendChild(docLink);\n",
              "      }\n",
              "    </script>\n",
              "  </div>\n",
              "\n",
              "\n",
              "<div id=\"df-95439190-54f9-4075-9d31-e06ab0e45b3c\">\n",
              "  <button class=\"colab-df-quickchart\" onclick=\"quickchart('df-95439190-54f9-4075-9d31-e06ab0e45b3c')\"\n",
              "            title=\"Suggest charts\"\n",
              "            style=\"display:none;\">\n",
              "\n",
              "<svg xmlns=\"http://www.w3.org/2000/svg\" height=\"24px\"viewBox=\"0 0 24 24\"\n",
              "     width=\"24px\">\n",
              "    <g>\n",
              "        <path d=\"M19 3H5c-1.1 0-2 .9-2 2v14c0 1.1.9 2 2 2h14c1.1 0 2-.9 2-2V5c0-1.1-.9-2-2-2zM9 17H7v-7h2v7zm4 0h-2V7h2v10zm4 0h-2v-4h2v4z\"/>\n",
              "    </g>\n",
              "</svg>\n",
              "  </button>\n",
              "\n",
              "<style>\n",
              "  .colab-df-quickchart {\n",
              "      --bg-color: #E8F0FE;\n",
              "      --fill-color: #1967D2;\n",
              "      --hover-bg-color: #E2EBFA;\n",
              "      --hover-fill-color: #174EA6;\n",
              "      --disabled-fill-color: #AAA;\n",
              "      --disabled-bg-color: #DDD;\n",
              "  }\n",
              "\n",
              "  [theme=dark] .colab-df-quickchart {\n",
              "      --bg-color: #3B4455;\n",
              "      --fill-color: #D2E3FC;\n",
              "      --hover-bg-color: #434B5C;\n",
              "      --hover-fill-color: #FFFFFF;\n",
              "      --disabled-bg-color: #3B4455;\n",
              "      --disabled-fill-color: #666;\n",
              "  }\n",
              "\n",
              "  .colab-df-quickchart {\n",
              "    background-color: var(--bg-color);\n",
              "    border: none;\n",
              "    border-radius: 50%;\n",
              "    cursor: pointer;\n",
              "    display: none;\n",
              "    fill: var(--fill-color);\n",
              "    height: 32px;\n",
              "    padding: 0;\n",
              "    width: 32px;\n",
              "  }\n",
              "\n",
              "  .colab-df-quickchart:hover {\n",
              "    background-color: var(--hover-bg-color);\n",
              "    box-shadow: 0 1px 2px rgba(60, 64, 67, 0.3), 0 1px 3px 1px rgba(60, 64, 67, 0.15);\n",
              "    fill: var(--button-hover-fill-color);\n",
              "  }\n",
              "\n",
              "  .colab-df-quickchart-complete:disabled,\n",
              "  .colab-df-quickchart-complete:disabled:hover {\n",
              "    background-color: var(--disabled-bg-color);\n",
              "    fill: var(--disabled-fill-color);\n",
              "    box-shadow: none;\n",
              "  }\n",
              "\n",
              "  .colab-df-spinner {\n",
              "    border: 2px solid var(--fill-color);\n",
              "    border-color: transparent;\n",
              "    border-bottom-color: var(--fill-color);\n",
              "    animation:\n",
              "      spin 1s steps(1) infinite;\n",
              "  }\n",
              "\n",
              "  @keyframes spin {\n",
              "    0% {\n",
              "      border-color: transparent;\n",
              "      border-bottom-color: var(--fill-color);\n",
              "      border-left-color: var(--fill-color);\n",
              "    }\n",
              "    20% {\n",
              "      border-color: transparent;\n",
              "      border-left-color: var(--fill-color);\n",
              "      border-top-color: var(--fill-color);\n",
              "    }\n",
              "    30% {\n",
              "      border-color: transparent;\n",
              "      border-left-color: var(--fill-color);\n",
              "      border-top-color: var(--fill-color);\n",
              "      border-right-color: var(--fill-color);\n",
              "    }\n",
              "    40% {\n",
              "      border-color: transparent;\n",
              "      border-right-color: var(--fill-color);\n",
              "      border-top-color: var(--fill-color);\n",
              "    }\n",
              "    60% {\n",
              "      border-color: transparent;\n",
              "      border-right-color: var(--fill-color);\n",
              "    }\n",
              "    80% {\n",
              "      border-color: transparent;\n",
              "      border-right-color: var(--fill-color);\n",
              "      border-bottom-color: var(--fill-color);\n",
              "    }\n",
              "    90% {\n",
              "      border-color: transparent;\n",
              "      border-bottom-color: var(--fill-color);\n",
              "    }\n",
              "  }\n",
              "</style>\n",
              "\n",
              "  <script>\n",
              "    async function quickchart(key) {\n",
              "      const quickchartButtonEl =\n",
              "        document.querySelector('#' + key + ' button');\n",
              "      quickchartButtonEl.disabled = true;  // To prevent multiple clicks.\n",
              "      quickchartButtonEl.classList.add('colab-df-spinner');\n",
              "      try {\n",
              "        const charts = await google.colab.kernel.invokeFunction(\n",
              "            'suggestCharts', [key], {});\n",
              "      } catch (error) {\n",
              "        console.error('Error during call to suggestCharts:', error);\n",
              "      }\n",
              "      quickchartButtonEl.classList.remove('colab-df-spinner');\n",
              "      quickchartButtonEl.classList.add('colab-df-quickchart-complete');\n",
              "    }\n",
              "    (() => {\n",
              "      let quickchartButtonEl =\n",
              "        document.querySelector('#df-95439190-54f9-4075-9d31-e06ab0e45b3c button');\n",
              "      quickchartButtonEl.style.display =\n",
              "        google.colab.kernel.accessAllowed ? 'block' : 'none';\n",
              "    })();\n",
              "  </script>\n",
              "</div>\n",
              "\n",
              "    </div>\n",
              "  </div>\n"
            ]
          },
          "metadata": {},
          "execution_count": 5
        }
      ]
    },
    {
      "cell_type": "code",
      "source": [
        "df.columns"
      ],
      "metadata": {
        "colab": {
          "base_uri": "https://localhost:8080/"
        },
        "id": "Hv_FYJS_eY8t",
        "outputId": "8358a144-9890-4578-c6ff-60e58e37237b"
      },
      "execution_count": 6,
      "outputs": [
        {
          "output_type": "execute_result",
          "data": {
            "text/plain": [
              "Index(['Review', 'Liked'], dtype='object')"
            ]
          },
          "metadata": {},
          "execution_count": 6
        }
      ]
    },
    {
      "cell_type": "code",
      "source": [
        "df['Liked'].nunique()"
      ],
      "metadata": {
        "colab": {
          "base_uri": "https://localhost:8080/"
        },
        "id": "MsJBpTMwepOD",
        "outputId": "de80d11c-2e7a-4352-8f89-6f71ba6f9667"
      },
      "execution_count": 7,
      "outputs": [
        {
          "output_type": "execute_result",
          "data": {
            "text/plain": [
              "2"
            ]
          },
          "metadata": {},
          "execution_count": 7
        }
      ]
    },
    {
      "cell_type": "code",
      "source": [
        "print(df['Liked'].unique())"
      ],
      "metadata": {
        "colab": {
          "base_uri": "https://localhost:8080/"
        },
        "id": "AX9FJGaZepIY",
        "outputId": "53987041-6146-48a0-8cba-b43e6f63d469"
      },
      "execution_count": 8,
      "outputs": [
        {
          "output_type": "stream",
          "name": "stdout",
          "text": [
            "[1 0]\n"
          ]
        }
      ]
    },
    {
      "cell_type": "code",
      "source": [
        "df['Liked'].value_counts()"
      ],
      "metadata": {
        "colab": {
          "base_uri": "https://localhost:8080/"
        },
        "id": "SfnqTL0meo_4",
        "outputId": "49e546d4-fb0e-46fe-ebc1-ccc01a1f3367"
      },
      "execution_count": 9,
      "outputs": [
        {
          "output_type": "execute_result",
          "data": {
            "text/plain": [
              "1    500\n",
              "0    500\n",
              "Name: Liked, dtype: int64"
            ]
          },
          "metadata": {},
          "execution_count": 9
        }
      ]
    },
    {
      "cell_type": "code",
      "source": [
        "df.head()"
      ],
      "metadata": {
        "colab": {
          "base_uri": "https://localhost:8080/",
          "height": 206
        },
        "id": "WSCxl5nfeo5I",
        "outputId": "e21354ee-2c4b-4f86-c746-5566f70cc75f"
      },
      "execution_count": 10,
      "outputs": [
        {
          "output_type": "execute_result",
          "data": {
            "text/plain": [
              "                                              Review  Liked\n",
              "0                           Wow... Loved this place.      1\n",
              "1                                 Crust is not good.      0\n",
              "2          Not tasty and the texture was just nasty.      0\n",
              "3  Stopped by during the late May bank holiday of...      1\n",
              "4  The selection on the menu was great and so wer...      1"
            ],
            "text/html": [
              "\n",
              "  <div id=\"df-0b08e0dc-7dfe-4638-be6b-7c9b2b858350\" class=\"colab-df-container\">\n",
              "    <div>\n",
              "<style scoped>\n",
              "    .dataframe tbody tr th:only-of-type {\n",
              "        vertical-align: middle;\n",
              "    }\n",
              "\n",
              "    .dataframe tbody tr th {\n",
              "        vertical-align: top;\n",
              "    }\n",
              "\n",
              "    .dataframe thead th {\n",
              "        text-align: right;\n",
              "    }\n",
              "</style>\n",
              "<table border=\"1\" class=\"dataframe\">\n",
              "  <thead>\n",
              "    <tr style=\"text-align: right;\">\n",
              "      <th></th>\n",
              "      <th>Review</th>\n",
              "      <th>Liked</th>\n",
              "    </tr>\n",
              "  </thead>\n",
              "  <tbody>\n",
              "    <tr>\n",
              "      <th>0</th>\n",
              "      <td>Wow... Loved this place.</td>\n",
              "      <td>1</td>\n",
              "    </tr>\n",
              "    <tr>\n",
              "      <th>1</th>\n",
              "      <td>Crust is not good.</td>\n",
              "      <td>0</td>\n",
              "    </tr>\n",
              "    <tr>\n",
              "      <th>2</th>\n",
              "      <td>Not tasty and the texture was just nasty.</td>\n",
              "      <td>0</td>\n",
              "    </tr>\n",
              "    <tr>\n",
              "      <th>3</th>\n",
              "      <td>Stopped by during the late May bank holiday of...</td>\n",
              "      <td>1</td>\n",
              "    </tr>\n",
              "    <tr>\n",
              "      <th>4</th>\n",
              "      <td>The selection on the menu was great and so wer...</td>\n",
              "      <td>1</td>\n",
              "    </tr>\n",
              "  </tbody>\n",
              "</table>\n",
              "</div>\n",
              "    <div class=\"colab-df-buttons\">\n",
              "\n",
              "  <div class=\"colab-df-container\">\n",
              "    <button class=\"colab-df-convert\" onclick=\"convertToInteractive('df-0b08e0dc-7dfe-4638-be6b-7c9b2b858350')\"\n",
              "            title=\"Convert this dataframe to an interactive table.\"\n",
              "            style=\"display:none;\">\n",
              "\n",
              "  <svg xmlns=\"http://www.w3.org/2000/svg\" height=\"24px\" viewBox=\"0 -960 960 960\">\n",
              "    <path d=\"M120-120v-720h720v720H120Zm60-500h600v-160H180v160Zm220 220h160v-160H400v160Zm0 220h160v-160H400v160ZM180-400h160v-160H180v160Zm440 0h160v-160H620v160ZM180-180h160v-160H180v160Zm440 0h160v-160H620v160Z\"/>\n",
              "  </svg>\n",
              "    </button>\n",
              "\n",
              "  <style>\n",
              "    .colab-df-container {\n",
              "      display:flex;\n",
              "      gap: 12px;\n",
              "    }\n",
              "\n",
              "    .colab-df-convert {\n",
              "      background-color: #E8F0FE;\n",
              "      border: none;\n",
              "      border-radius: 50%;\n",
              "      cursor: pointer;\n",
              "      display: none;\n",
              "      fill: #1967D2;\n",
              "      height: 32px;\n",
              "      padding: 0 0 0 0;\n",
              "      width: 32px;\n",
              "    }\n",
              "\n",
              "    .colab-df-convert:hover {\n",
              "      background-color: #E2EBFA;\n",
              "      box-shadow: 0px 1px 2px rgba(60, 64, 67, 0.3), 0px 1px 3px 1px rgba(60, 64, 67, 0.15);\n",
              "      fill: #174EA6;\n",
              "    }\n",
              "\n",
              "    .colab-df-buttons div {\n",
              "      margin-bottom: 4px;\n",
              "    }\n",
              "\n",
              "    [theme=dark] .colab-df-convert {\n",
              "      background-color: #3B4455;\n",
              "      fill: #D2E3FC;\n",
              "    }\n",
              "\n",
              "    [theme=dark] .colab-df-convert:hover {\n",
              "      background-color: #434B5C;\n",
              "      box-shadow: 0px 1px 3px 1px rgba(0, 0, 0, 0.15);\n",
              "      filter: drop-shadow(0px 1px 2px rgba(0, 0, 0, 0.3));\n",
              "      fill: #FFFFFF;\n",
              "    }\n",
              "  </style>\n",
              "\n",
              "    <script>\n",
              "      const buttonEl =\n",
              "        document.querySelector('#df-0b08e0dc-7dfe-4638-be6b-7c9b2b858350 button.colab-df-convert');\n",
              "      buttonEl.style.display =\n",
              "        google.colab.kernel.accessAllowed ? 'block' : 'none';\n",
              "\n",
              "      async function convertToInteractive(key) {\n",
              "        const element = document.querySelector('#df-0b08e0dc-7dfe-4638-be6b-7c9b2b858350');\n",
              "        const dataTable =\n",
              "          await google.colab.kernel.invokeFunction('convertToInteractive',\n",
              "                                                    [key], {});\n",
              "        if (!dataTable) return;\n",
              "\n",
              "        const docLinkHtml = 'Like what you see? Visit the ' +\n",
              "          '<a target=\"_blank\" href=https://colab.research.google.com/notebooks/data_table.ipynb>data table notebook</a>'\n",
              "          + ' to learn more about interactive tables.';\n",
              "        element.innerHTML = '';\n",
              "        dataTable['output_type'] = 'display_data';\n",
              "        await google.colab.output.renderOutput(dataTable, element);\n",
              "        const docLink = document.createElement('div');\n",
              "        docLink.innerHTML = docLinkHtml;\n",
              "        element.appendChild(docLink);\n",
              "      }\n",
              "    </script>\n",
              "  </div>\n",
              "\n",
              "\n",
              "<div id=\"df-e75cbaf4-921e-4bf9-bd37-473cbf6a1c30\">\n",
              "  <button class=\"colab-df-quickchart\" onclick=\"quickchart('df-e75cbaf4-921e-4bf9-bd37-473cbf6a1c30')\"\n",
              "            title=\"Suggest charts\"\n",
              "            style=\"display:none;\">\n",
              "\n",
              "<svg xmlns=\"http://www.w3.org/2000/svg\" height=\"24px\"viewBox=\"0 0 24 24\"\n",
              "     width=\"24px\">\n",
              "    <g>\n",
              "        <path d=\"M19 3H5c-1.1 0-2 .9-2 2v14c0 1.1.9 2 2 2h14c1.1 0 2-.9 2-2V5c0-1.1-.9-2-2-2zM9 17H7v-7h2v7zm4 0h-2V7h2v10zm4 0h-2v-4h2v4z\"/>\n",
              "    </g>\n",
              "</svg>\n",
              "  </button>\n",
              "\n",
              "<style>\n",
              "  .colab-df-quickchart {\n",
              "      --bg-color: #E8F0FE;\n",
              "      --fill-color: #1967D2;\n",
              "      --hover-bg-color: #E2EBFA;\n",
              "      --hover-fill-color: #174EA6;\n",
              "      --disabled-fill-color: #AAA;\n",
              "      --disabled-bg-color: #DDD;\n",
              "  }\n",
              "\n",
              "  [theme=dark] .colab-df-quickchart {\n",
              "      --bg-color: #3B4455;\n",
              "      --fill-color: #D2E3FC;\n",
              "      --hover-bg-color: #434B5C;\n",
              "      --hover-fill-color: #FFFFFF;\n",
              "      --disabled-bg-color: #3B4455;\n",
              "      --disabled-fill-color: #666;\n",
              "  }\n",
              "\n",
              "  .colab-df-quickchart {\n",
              "    background-color: var(--bg-color);\n",
              "    border: none;\n",
              "    border-radius: 50%;\n",
              "    cursor: pointer;\n",
              "    display: none;\n",
              "    fill: var(--fill-color);\n",
              "    height: 32px;\n",
              "    padding: 0;\n",
              "    width: 32px;\n",
              "  }\n",
              "\n",
              "  .colab-df-quickchart:hover {\n",
              "    background-color: var(--hover-bg-color);\n",
              "    box-shadow: 0 1px 2px rgba(60, 64, 67, 0.3), 0 1px 3px 1px rgba(60, 64, 67, 0.15);\n",
              "    fill: var(--button-hover-fill-color);\n",
              "  }\n",
              "\n",
              "  .colab-df-quickchart-complete:disabled,\n",
              "  .colab-df-quickchart-complete:disabled:hover {\n",
              "    background-color: var(--disabled-bg-color);\n",
              "    fill: var(--disabled-fill-color);\n",
              "    box-shadow: none;\n",
              "  }\n",
              "\n",
              "  .colab-df-spinner {\n",
              "    border: 2px solid var(--fill-color);\n",
              "    border-color: transparent;\n",
              "    border-bottom-color: var(--fill-color);\n",
              "    animation:\n",
              "      spin 1s steps(1) infinite;\n",
              "  }\n",
              "\n",
              "  @keyframes spin {\n",
              "    0% {\n",
              "      border-color: transparent;\n",
              "      border-bottom-color: var(--fill-color);\n",
              "      border-left-color: var(--fill-color);\n",
              "    }\n",
              "    20% {\n",
              "      border-color: transparent;\n",
              "      border-left-color: var(--fill-color);\n",
              "      border-top-color: var(--fill-color);\n",
              "    }\n",
              "    30% {\n",
              "      border-color: transparent;\n",
              "      border-left-color: var(--fill-color);\n",
              "      border-top-color: var(--fill-color);\n",
              "      border-right-color: var(--fill-color);\n",
              "    }\n",
              "    40% {\n",
              "      border-color: transparent;\n",
              "      border-right-color: var(--fill-color);\n",
              "      border-top-color: var(--fill-color);\n",
              "    }\n",
              "    60% {\n",
              "      border-color: transparent;\n",
              "      border-right-color: var(--fill-color);\n",
              "    }\n",
              "    80% {\n",
              "      border-color: transparent;\n",
              "      border-right-color: var(--fill-color);\n",
              "      border-bottom-color: var(--fill-color);\n",
              "    }\n",
              "    90% {\n",
              "      border-color: transparent;\n",
              "      border-bottom-color: var(--fill-color);\n",
              "    }\n",
              "  }\n",
              "</style>\n",
              "\n",
              "  <script>\n",
              "    async function quickchart(key) {\n",
              "      const quickchartButtonEl =\n",
              "        document.querySelector('#' + key + ' button');\n",
              "      quickchartButtonEl.disabled = true;  // To prevent multiple clicks.\n",
              "      quickchartButtonEl.classList.add('colab-df-spinner');\n",
              "      try {\n",
              "        const charts = await google.colab.kernel.invokeFunction(\n",
              "            'suggestCharts', [key], {});\n",
              "      } catch (error) {\n",
              "        console.error('Error during call to suggestCharts:', error);\n",
              "      }\n",
              "      quickchartButtonEl.classList.remove('colab-df-spinner');\n",
              "      quickchartButtonEl.classList.add('colab-df-quickchart-complete');\n",
              "    }\n",
              "    (() => {\n",
              "      let quickchartButtonEl =\n",
              "        document.querySelector('#df-e75cbaf4-921e-4bf9-bd37-473cbf6a1c30 button');\n",
              "      quickchartButtonEl.style.display =\n",
              "        google.colab.kernel.accessAllowed ? 'block' : 'none';\n",
              "    })();\n",
              "  </script>\n",
              "</div>\n",
              "\n",
              "    </div>\n",
              "  </div>\n"
            ]
          },
          "metadata": {},
          "execution_count": 10
        }
      ]
    },
    {
      "cell_type": "code",
      "source": [
        "df.tail()"
      ],
      "metadata": {
        "colab": {
          "base_uri": "https://localhost:8080/",
          "height": 206
        },
        "id": "e6H4jet5e3LZ",
        "outputId": "6da15680-7358-43ba-ec46-b4a5576fa967"
      },
      "execution_count": 11,
      "outputs": [
        {
          "output_type": "execute_result",
          "data": {
            "text/plain": [
              "                                                Review  Liked\n",
              "995  I think food should have flavor and texture an...      0\n",
              "996                           Appetite instantly gone.      0\n",
              "997  Overall I was not impressed and would not go b...      0\n",
              "998  The whole experience was underwhelming, and I ...      0\n",
              "999  Then, as if I hadn't wasted enough of my life ...      0"
            ],
            "text/html": [
              "\n",
              "  <div id=\"df-eec93482-213a-42e7-afa9-85c5757b3445\" class=\"colab-df-container\">\n",
              "    <div>\n",
              "<style scoped>\n",
              "    .dataframe tbody tr th:only-of-type {\n",
              "        vertical-align: middle;\n",
              "    }\n",
              "\n",
              "    .dataframe tbody tr th {\n",
              "        vertical-align: top;\n",
              "    }\n",
              "\n",
              "    .dataframe thead th {\n",
              "        text-align: right;\n",
              "    }\n",
              "</style>\n",
              "<table border=\"1\" class=\"dataframe\">\n",
              "  <thead>\n",
              "    <tr style=\"text-align: right;\">\n",
              "      <th></th>\n",
              "      <th>Review</th>\n",
              "      <th>Liked</th>\n",
              "    </tr>\n",
              "  </thead>\n",
              "  <tbody>\n",
              "    <tr>\n",
              "      <th>995</th>\n",
              "      <td>I think food should have flavor and texture an...</td>\n",
              "      <td>0</td>\n",
              "    </tr>\n",
              "    <tr>\n",
              "      <th>996</th>\n",
              "      <td>Appetite instantly gone.</td>\n",
              "      <td>0</td>\n",
              "    </tr>\n",
              "    <tr>\n",
              "      <th>997</th>\n",
              "      <td>Overall I was not impressed and would not go b...</td>\n",
              "      <td>0</td>\n",
              "    </tr>\n",
              "    <tr>\n",
              "      <th>998</th>\n",
              "      <td>The whole experience was underwhelming, and I ...</td>\n",
              "      <td>0</td>\n",
              "    </tr>\n",
              "    <tr>\n",
              "      <th>999</th>\n",
              "      <td>Then, as if I hadn't wasted enough of my life ...</td>\n",
              "      <td>0</td>\n",
              "    </tr>\n",
              "  </tbody>\n",
              "</table>\n",
              "</div>\n",
              "    <div class=\"colab-df-buttons\">\n",
              "\n",
              "  <div class=\"colab-df-container\">\n",
              "    <button class=\"colab-df-convert\" onclick=\"convertToInteractive('df-eec93482-213a-42e7-afa9-85c5757b3445')\"\n",
              "            title=\"Convert this dataframe to an interactive table.\"\n",
              "            style=\"display:none;\">\n",
              "\n",
              "  <svg xmlns=\"http://www.w3.org/2000/svg\" height=\"24px\" viewBox=\"0 -960 960 960\">\n",
              "    <path d=\"M120-120v-720h720v720H120Zm60-500h600v-160H180v160Zm220 220h160v-160H400v160Zm0 220h160v-160H400v160ZM180-400h160v-160H180v160Zm440 0h160v-160H620v160ZM180-180h160v-160H180v160Zm440 0h160v-160H620v160Z\"/>\n",
              "  </svg>\n",
              "    </button>\n",
              "\n",
              "  <style>\n",
              "    .colab-df-container {\n",
              "      display:flex;\n",
              "      gap: 12px;\n",
              "    }\n",
              "\n",
              "    .colab-df-convert {\n",
              "      background-color: #E8F0FE;\n",
              "      border: none;\n",
              "      border-radius: 50%;\n",
              "      cursor: pointer;\n",
              "      display: none;\n",
              "      fill: #1967D2;\n",
              "      height: 32px;\n",
              "      padding: 0 0 0 0;\n",
              "      width: 32px;\n",
              "    }\n",
              "\n",
              "    .colab-df-convert:hover {\n",
              "      background-color: #E2EBFA;\n",
              "      box-shadow: 0px 1px 2px rgba(60, 64, 67, 0.3), 0px 1px 3px 1px rgba(60, 64, 67, 0.15);\n",
              "      fill: #174EA6;\n",
              "    }\n",
              "\n",
              "    .colab-df-buttons div {\n",
              "      margin-bottom: 4px;\n",
              "    }\n",
              "\n",
              "    [theme=dark] .colab-df-convert {\n",
              "      background-color: #3B4455;\n",
              "      fill: #D2E3FC;\n",
              "    }\n",
              "\n",
              "    [theme=dark] .colab-df-convert:hover {\n",
              "      background-color: #434B5C;\n",
              "      box-shadow: 0px 1px 3px 1px rgba(0, 0, 0, 0.15);\n",
              "      filter: drop-shadow(0px 1px 2px rgba(0, 0, 0, 0.3));\n",
              "      fill: #FFFFFF;\n",
              "    }\n",
              "  </style>\n",
              "\n",
              "    <script>\n",
              "      const buttonEl =\n",
              "        document.querySelector('#df-eec93482-213a-42e7-afa9-85c5757b3445 button.colab-df-convert');\n",
              "      buttonEl.style.display =\n",
              "        google.colab.kernel.accessAllowed ? 'block' : 'none';\n",
              "\n",
              "      async function convertToInteractive(key) {\n",
              "        const element = document.querySelector('#df-eec93482-213a-42e7-afa9-85c5757b3445');\n",
              "        const dataTable =\n",
              "          await google.colab.kernel.invokeFunction('convertToInteractive',\n",
              "                                                    [key], {});\n",
              "        if (!dataTable) return;\n",
              "\n",
              "        const docLinkHtml = 'Like what you see? Visit the ' +\n",
              "          '<a target=\"_blank\" href=https://colab.research.google.com/notebooks/data_table.ipynb>data table notebook</a>'\n",
              "          + ' to learn more about interactive tables.';\n",
              "        element.innerHTML = '';\n",
              "        dataTable['output_type'] = 'display_data';\n",
              "        await google.colab.output.renderOutput(dataTable, element);\n",
              "        const docLink = document.createElement('div');\n",
              "        docLink.innerHTML = docLinkHtml;\n",
              "        element.appendChild(docLink);\n",
              "      }\n",
              "    </script>\n",
              "  </div>\n",
              "\n",
              "\n",
              "<div id=\"df-9464cc12-bc52-4fd5-89c0-51d3d6d5afbe\">\n",
              "  <button class=\"colab-df-quickchart\" onclick=\"quickchart('df-9464cc12-bc52-4fd5-89c0-51d3d6d5afbe')\"\n",
              "            title=\"Suggest charts\"\n",
              "            style=\"display:none;\">\n",
              "\n",
              "<svg xmlns=\"http://www.w3.org/2000/svg\" height=\"24px\"viewBox=\"0 0 24 24\"\n",
              "     width=\"24px\">\n",
              "    <g>\n",
              "        <path d=\"M19 3H5c-1.1 0-2 .9-2 2v14c0 1.1.9 2 2 2h14c1.1 0 2-.9 2-2V5c0-1.1-.9-2-2-2zM9 17H7v-7h2v7zm4 0h-2V7h2v10zm4 0h-2v-4h2v4z\"/>\n",
              "    </g>\n",
              "</svg>\n",
              "  </button>\n",
              "\n",
              "<style>\n",
              "  .colab-df-quickchart {\n",
              "      --bg-color: #E8F0FE;\n",
              "      --fill-color: #1967D2;\n",
              "      --hover-bg-color: #E2EBFA;\n",
              "      --hover-fill-color: #174EA6;\n",
              "      --disabled-fill-color: #AAA;\n",
              "      --disabled-bg-color: #DDD;\n",
              "  }\n",
              "\n",
              "  [theme=dark] .colab-df-quickchart {\n",
              "      --bg-color: #3B4455;\n",
              "      --fill-color: #D2E3FC;\n",
              "      --hover-bg-color: #434B5C;\n",
              "      --hover-fill-color: #FFFFFF;\n",
              "      --disabled-bg-color: #3B4455;\n",
              "      --disabled-fill-color: #666;\n",
              "  }\n",
              "\n",
              "  .colab-df-quickchart {\n",
              "    background-color: var(--bg-color);\n",
              "    border: none;\n",
              "    border-radius: 50%;\n",
              "    cursor: pointer;\n",
              "    display: none;\n",
              "    fill: var(--fill-color);\n",
              "    height: 32px;\n",
              "    padding: 0;\n",
              "    width: 32px;\n",
              "  }\n",
              "\n",
              "  .colab-df-quickchart:hover {\n",
              "    background-color: var(--hover-bg-color);\n",
              "    box-shadow: 0 1px 2px rgba(60, 64, 67, 0.3), 0 1px 3px 1px rgba(60, 64, 67, 0.15);\n",
              "    fill: var(--button-hover-fill-color);\n",
              "  }\n",
              "\n",
              "  .colab-df-quickchart-complete:disabled,\n",
              "  .colab-df-quickchart-complete:disabled:hover {\n",
              "    background-color: var(--disabled-bg-color);\n",
              "    fill: var(--disabled-fill-color);\n",
              "    box-shadow: none;\n",
              "  }\n",
              "\n",
              "  .colab-df-spinner {\n",
              "    border: 2px solid var(--fill-color);\n",
              "    border-color: transparent;\n",
              "    border-bottom-color: var(--fill-color);\n",
              "    animation:\n",
              "      spin 1s steps(1) infinite;\n",
              "  }\n",
              "\n",
              "  @keyframes spin {\n",
              "    0% {\n",
              "      border-color: transparent;\n",
              "      border-bottom-color: var(--fill-color);\n",
              "      border-left-color: var(--fill-color);\n",
              "    }\n",
              "    20% {\n",
              "      border-color: transparent;\n",
              "      border-left-color: var(--fill-color);\n",
              "      border-top-color: var(--fill-color);\n",
              "    }\n",
              "    30% {\n",
              "      border-color: transparent;\n",
              "      border-left-color: var(--fill-color);\n",
              "      border-top-color: var(--fill-color);\n",
              "      border-right-color: var(--fill-color);\n",
              "    }\n",
              "    40% {\n",
              "      border-color: transparent;\n",
              "      border-right-color: var(--fill-color);\n",
              "      border-top-color: var(--fill-color);\n",
              "    }\n",
              "    60% {\n",
              "      border-color: transparent;\n",
              "      border-right-color: var(--fill-color);\n",
              "    }\n",
              "    80% {\n",
              "      border-color: transparent;\n",
              "      border-right-color: var(--fill-color);\n",
              "      border-bottom-color: var(--fill-color);\n",
              "    }\n",
              "    90% {\n",
              "      border-color: transparent;\n",
              "      border-bottom-color: var(--fill-color);\n",
              "    }\n",
              "  }\n",
              "</style>\n",
              "\n",
              "  <script>\n",
              "    async function quickchart(key) {\n",
              "      const quickchartButtonEl =\n",
              "        document.querySelector('#' + key + ' button');\n",
              "      quickchartButtonEl.disabled = true;  // To prevent multiple clicks.\n",
              "      quickchartButtonEl.classList.add('colab-df-spinner');\n",
              "      try {\n",
              "        const charts = await google.colab.kernel.invokeFunction(\n",
              "            'suggestCharts', [key], {});\n",
              "      } catch (error) {\n",
              "        console.error('Error during call to suggestCharts:', error);\n",
              "      }\n",
              "      quickchartButtonEl.classList.remove('colab-df-spinner');\n",
              "      quickchartButtonEl.classList.add('colab-df-quickchart-complete');\n",
              "    }\n",
              "    (() => {\n",
              "      let quickchartButtonEl =\n",
              "        document.querySelector('#df-9464cc12-bc52-4fd5-89c0-51d3d6d5afbe button');\n",
              "      quickchartButtonEl.style.display =\n",
              "        google.colab.kernel.accessAllowed ? 'block' : 'none';\n",
              "    })();\n",
              "  </script>\n",
              "</div>\n",
              "\n",
              "    </div>\n",
              "  </div>\n"
            ]
          },
          "metadata": {},
          "execution_count": 11
        }
      ]
    },
    {
      "cell_type": "markdown",
      "source": [
        "# Visualizations"
      ],
      "metadata": {
        "id": "bUWOesVHe7w7"
      }
    },
    {
      "cell_type": "code",
      "source": [
        "plt.figure(figsize=(8,5))\n",
        "sns.countplot(x=df.Liked)"
      ],
      "metadata": {
        "colab": {
          "base_uri": "https://localhost:8080/",
          "height": 482
        },
        "id": "qYsI3R0Re3DO",
        "outputId": "cdbfc2ef-3b98-4050-adee-430904c65fce"
      },
      "execution_count": 12,
      "outputs": [
        {
          "output_type": "execute_result",
          "data": {
            "text/plain": [
              "<Axes: xlabel='Liked', ylabel='count'>"
            ]
          },
          "metadata": {},
          "execution_count": 12
        },
        {
          "output_type": "display_data",
          "data": {
            "text/plain": [
              "<Figure size 800x500 with 1 Axes>"
            ],
            "image/png": "[encoded data removed]"
          },
          "metadata": {}
        }
      ]
    },
    {
      "cell_type": "code",
      "source": [
        "x=df['Review'].values\n",
        "y=df['Liked'].values"
      ],
      "metadata": {
        "id": "b3ESw2WKe27G"
      },
      "execution_count": 13,
      "outputs": []
    },
    {
      "cell_type": "code",
      "source": [
        "from sklearn.model_selection import train_test_split\n",
        "x_train,x_test,y_train,y_test=train_test_split(x,y,random_state=0)"
      ],
      "metadata": {
        "id": "CSaPBqQ6hiz8"
      },
      "execution_count": 14,
      "outputs": []
    },
    {
      "cell_type": "code",
      "source": [
        "x_train.shape"
      ],
      "metadata": {
        "colab": {
          "base_uri": "https://localhost:8080/"
        },
        "id": "UO2yEyIshim0",
        "outputId": "0eb8b058-3ba5-46ef-d9cb-56e2137e011c"
      },
      "execution_count": 15,
      "outputs": [
        {
          "output_type": "execute_result",
          "data": {
            "text/plain": [
              "(750,)"
            ]
          },
          "metadata": {},
          "execution_count": 15
        }
      ]
    },
    {
      "cell_type": "code",
      "source": [
        "x_test.shape"
      ],
      "metadata": {
        "colab": {
          "base_uri": "https://localhost:8080/"
        },
        "id": "SZmHwn-Khijj",
        "outputId": "c6d767aa-e3ab-4a70-bac6-6b28f5434416"
      },
      "execution_count": 16,
      "outputs": [
        {
          "output_type": "execute_result",
          "data": {
            "text/plain": [
              "(250,)"
            ]
          },
          "metadata": {},
          "execution_count": 16
        }
      ]
    },
    {
      "cell_type": "code",
      "source": [
        "y_train.shape"
      ],
      "metadata": {
        "colab": {
          "base_uri": "https://localhost:8080/"
        },
        "id": "pmT8IcnDhia7",
        "outputId": "a47d4a3f-583d-4fee-bbe0-fdbfc3af6f91"
      },
      "execution_count": 17,
      "outputs": [
        {
          "output_type": "execute_result",
          "data": {
            "text/plain": [
              "(750,)"
            ]
          },
          "metadata": {},
          "execution_count": 17
        }
      ]
    },
    {
      "cell_type": "code",
      "source": [
        "y_test.shape"
      ],
      "metadata": {
        "colab": {
          "base_uri": "https://localhost:8080/"
        },
        "id": "G-uYkR5Gh_oX",
        "outputId": "27f6f181-f9e2-4051-c5f8-7e116cffd813"
      },
      "execution_count": 18,
      "outputs": [
        {
          "output_type": "execute_result",
          "data": {
            "text/plain": [
              "(250,)"
            ]
          },
          "metadata": {},
          "execution_count": 18
        }
      ]
    },
    {
      "cell_type": "markdown",
      "source": [
        "# Import CountVectorizer and SVC\n"
      ],
      "metadata": {
        "id": "KsTnagU9iOVf"
      }
    },
    {
      "cell_type": "code",
      "source": [
        "from sklearn.feature_extraction.text import CountVectorizer\n",
        "vect=CountVectorizer(stop_words='english')"
      ],
      "metadata": {
        "id": "9G5WnPsUiG3G"
      },
      "execution_count": 19,
      "outputs": []
    },
    {
      "cell_type": "code",
      "source": [
        "x_train_vect=vect.fit_transform(x_train)\n",
        "x_test_vect=vect.transform(x_test)"
      ],
      "metadata": {
        "id": "AJ6EvMgeiG0n"
      },
      "execution_count": 20,
      "outputs": []
    },
    {
      "cell_type": "code",
      "source": [
        "from sklearn.svm import SVC\n",
        "model=SVC()"
      ],
      "metadata": {
        "id": "7aj__u__iGx_"
      },
      "execution_count": 21,
      "outputs": []
    },
    {
      "cell_type": "code",
      "source": [
        "model.fit(x_train_vect,y_train)"
      ],
      "metadata": {
        "colab": {
          "base_uri": "https://localhost:8080/",
          "height": 74
        },
        "id": "m-ADptPciGvJ",
        "outputId": "aff1923b-62b5-4472-f027-efe19b2fffbf"
      },
      "execution_count": 22,
      "outputs": [
        {
          "output_type": "execute_result",
          "data": {
            "text/plain": [
              "SVC()"
            ],
            "text/html": [
              "<style>#sk-container-id-1 {color: black;background-color: white;}#sk-container-id-1 pre{padding: 0;}#sk-container-id-1 div.sk-toggleable {background-color: white;}#sk-container-id-1 label.sk-toggleable__label {cursor: pointer;display: block;width: 100%;margin-bottom: 0;padding: 0.3em;box-sizing: border-box;text-align: center;}#sk-container-id-1 label.sk-toggleable__label-arrow:before {content: \"▸\";float: left;margin-right: 0.25em;color: #696969;}#sk-container-id-1 label.sk-toggleable__label-arrow:hover:before {color: black;}#sk-container-id-1 div.sk-estimator:hover label.sk-toggleable__label-arrow:before {color: black;}#sk-container-id-1 div.sk-toggleable__content {max-height: 0;max-width: 0;overflow: hidden;text-align: left;background-color: #f0f8ff;}#sk-container-id-1 div.sk-toggleable__content pre {margin: 0.2em;color: black;border-radius: 0.25em;background-color: #f0f8ff;}#sk-container-id-1 input.sk-toggleable__control:checked~div.sk-toggleable__content {max-height: 200px;max-width: 100%;overflow: auto;}#sk-container-id-1 input.sk-toggleable__control:checked~label.sk-toggleable__label-arrow:before {content: \"▾\";}#sk-container-id-1 div.sk-estimator input.sk-toggleable__control:checked~label.sk-toggleable__label {background-color: #d4ebff;}#sk-container-id-1 div.sk-label input.sk-toggleable__control:checked~label.sk-toggleable__label {background-color: #d4ebff;}#sk-container-id-1 input.sk-hidden--visually {border: 0;clip: rect(1px 1px 1px 1px);clip: rect(1px, 1px, 1px, 1px);height: 1px;margin: -1px;overflow: hidden;padding: 0;position: absolute;width: 1px;}#sk-container-id-1 div.sk-estimator {font-family: monospace;background-color: #f0f8ff;border: 1px dotted black;border-radius: 0.25em;box-sizing: border-box;margin-bottom: 0.5em;}#sk-container-id-1 div.sk-estimator:hover {background-color: #d4ebff;}#sk-container-id-1 div.sk-parallel-item::after {content: \"\";width: 100%;border-bottom: 1px solid gray;flex-grow: 1;}#sk-container-id-1 div.sk-label:hover label.sk-toggleable__label {background-color: #d4ebff;}#sk-container-id-1 div.sk-serial::before {content: \"\";position: absolute;border-left: 1px solid gray;box-sizing: border-box;top: 0;bottom: 0;left: 50%;z-index: 0;}#sk-container-id-1 div.sk-serial {display: flex;flex-direction: column;align-items: center;background-color: white;padding-right: 0.2em;padding-left: 0.2em;position: relative;}#sk-container-id-1 div.sk-item {position: relative;z-index: 1;}#sk-container-id-1 div.sk-parallel {display: flex;align-items: stretch;justify-content: center;background-color: white;position: relative;}#sk-container-id-1 div.sk-item::before, #sk-container-id-1 div.sk-parallel-item::before {content: \"\";position: absolute;border-left: 1px solid gray;box-sizing: border-box;top: 0;bottom: 0;left: 50%;z-index: -1;}#sk-container-id-1 div.sk-parallel-item {display: flex;flex-direction: column;z-index: 1;position: relative;background-color: white;}#sk-container-id-1 div.sk-parallel-item:first-child::after {align-self: flex-end;width: 50%;}#sk-container-id-1 div.sk-parallel-item:last-child::after {align-self: flex-start;width: 50%;}#sk-container-id-1 div.sk-parallel-item:only-child::after {width: 0;}#sk-container-id-1 div.sk-dashed-wrapped {border: 1px dashed gray;margin: 0 0.4em 0.5em 0.4em;box-sizing: border-box;padding-bottom: 0.4em;background-color: white;}#sk-container-id-1 div.sk-label label {font-family: monospace;font-weight: bold;display: inline-block;line-height: 1.2em;}#sk-container-id-1 div.sk-label-container {text-align: center;}#sk-container-id-1 div.sk-container {/* jupyter's `normalize.less` sets `[hidden] { display: none; }` but bootstrap.min.css set `[hidden] { display: none !important; }` so we also need the `!important` here to be able to override the default hidden behavior on the sphinx rendered scikit-learn.org. See: https://github.com/scikit-learn/scikit-learn/issues/21755 */display: inline-block !important;position: relative;}#sk-container-id-1 div.sk-text-repr-fallback {display: none;}</style><div id=\"sk-container-id-1\" class=\"sk-top-container\"><div class=\"sk-text-repr-fallback\"><pre>SVC()</pre><b>In a Jupyter environment, please rerun this cell to show the HTML representation or trust the notebook. <br />On GitHub, the HTML representation is unable to render, please try loading this page with nbviewer.org.</b></div><div class=\"sk-container\" hidden><div class=\"sk-item\"><div class=\"sk-estimator sk-toggleable\"><input class=\"sk-toggleable__control sk-hidden--visually\" id=\"sk-estimator-id-1\" type=\"checkbox\" checked><label for=\"sk-estimator-id-1\" class=\"sk-toggleable__label sk-toggleable__label-arrow\">SVC</label><div class=\"sk-toggleable__content\"><pre>SVC()</pre></div></div></div></div></div>"
            ]
          },
          "metadata": {},
          "execution_count": 22
        }
      ]
    },
    {
      "cell_type": "code",
      "source": [
        "y_pred=model.predict(x_test_vect)"
      ],
      "metadata": {
        "id": "s02E2sEPiGsl"
      },
      "execution_count": 23,
      "outputs": []
    },
    {
      "cell_type": "code",
      "source": [
        "Negative = df[df.Liked ==0]\n",
        "Positive = df[df.Liked==1]\n",
        "Negative_text = \" \".join(Negative.Review.to_numpy().tolist())\n",
        "Positive_text = \" \".join(Positive.Review.to_numpy().tolist())"
      ],
      "metadata": {
        "id": "449H-BjtiGnS"
      },
      "execution_count": 24,
      "outputs": []
    },
    {
      "cell_type": "code",
      "source": [
        "print(Negative_text)"
      ],
      "metadata": {
        "colab": {
          "base_uri": "https://localhost:8080/"
        },
        "id": "-s9QbQMjiGkh",
        "outputId": "0d10818c-c245-431f-c6cc-533edc341d22"
      },
      "execution_count": 25,
      "outputs": [
        {
          "output_type": "stream",
          "name": "stdout",
          "text": [
            "Crust is not good. Not tasty and the texture was just nasty. Now I am getting angry and I want my damn pho. Honeslty it didn't taste THAT fresh.) The potatoes were like rubber and you could tell they had been made up ahead of time being kept under a warmer. Would not go back. The cashier had no care what so ever on what I had to say it still ended up being wayyy overpriced. I was disgusted because I was pretty sure that was human hair. I was shocked because no signs indicate cash only. Waitress was a little slow in service. This place is not worth your time, let alone Vegas. did not like at all. The Burrittos Blah! - They never brought a salad we asked for. Took an hour to get our food only 4 tables in restaurant my food was Luke warm, Our sever was running around like he was totally overwhelmed. The worst was the salmon sashimi. This was like the final blow! seems like a good quick place to grab a bite of some familiar pub food, but do yourself a favor and look elsewhere. Poor service, the waiter made me feel like I was stupid every time he came to the table. Service sucks. There is not a deal good enough that would drag me into that establishment again. Hard to judge whether these sides were good because we were grossed out by the melted styrofoam and didn't want to eat it for fear of getting sick. Frozen pucks of disgust, with some of the worst people behind the register. It's too bad the food is so damn generic. They have horrible attitudes towards customers, and talk down to each one when customers don't enjoy their food. The Heart Attack Grill in downtown Vegas is an absolutely flat-lined excuse for a restaurant. Not much seafood and like 5 strings of pasta at the bottom. The ripped banana was not only ripped, but petrified and tasteless. At least think to refill my water before I struggle to wave you over for 10 minutes. We got the food and apparently they have never heard of salt and the batter on the fish was chewy. The service was meh. It took over 30 min to get their milkshake, which was nothing more than chocolate milk. I guess I should have known that this place would suck, because it is inside of the Excalibur, but I didn't use my common sense. The scallop dish is quite appalling for value as well. 2 times - Very Bad Customer Service ! There is so much good food in Vegas that I feel cheated for wasting an eating opportunity by going to Rice and Company. Coming here is like experiencing an underwhelming relationship where both parties can't wait for the other person to ask to break up. walked in and the place smelled like an old grease trap and only 2 others there eating. The turkey and roast beef were bland. The pan cakes everyone are raving about taste like a sugary disaster tailored to the palate of a six year old. The poor batter to meat ratio made the chicken tenders very unsatisfying. In summary, this was a largely disappointing dining experience. Never been to Hard Rock Casino before, WILL NEVER EVER STEP FORWARD IN IT AGAIN! say bye bye to your tip lady! We'll never go again. It was not good. REAL sushi lovers, let's be honest - Yama is not that good. At least 40min passed in between us ordering and the food arriving, and it wasn't that busy. It was pretty gross! I've had better atmosphere. Kind of hard to mess up a steak but they did. Although I very much liked the look and sound of this place, the actual experience was a bit disappointing. I just don't know how this place managed to served the blandest food I have ever eaten when they are preparing Indian cuisine. Worst service to boot, but that is the least of their worries. Host staff were, for lack of a better word, BITCHES! Bland... Not a liking this place for a number of reasons and I don't want to waste time on bad reviewing.. I'll leave it at that... I wouldn't return. This place is way too overpriced for mediocre food. The management is rude. He was extremely rude and really, there are so many other restaurants I would love to dine at during a weekend in Vegas. Don't do it!!!! The waiter wasn't helpful or friendly and rarely checked on us. My husband and I ate lunch here and were very disappointed with the food and service. And the red curry had so much bamboo shoots and wasn't very tasty to me. The menu is always changing, food quality is going down & service is extremely slow. The service was a little slow , considering that were served by 3 people servers so the food was coming in a slow pace. I give it 2 thumbs down We watched our waiter pay a lot more attention to other tables and ignore us. We waited for forty five minutes in vain. Crostini that came with the salad was stale. Unfortunately, we must have hit the bakery on leftover day because everything we ordered was STALE. I came back today since they relocated and still not impressed. Avoid at all cost! So don't go there if you are looking for good food... I've never been treated so bad. We also ordered the spinach and avocado salad, the ingredients were sad and the dressing literally had zero taste. Perhaps I caught them on an off night judging by the other reviews, but I'm not inspired to go back. The service here leaves a lot to be desired. We literally sat there for 20 minutes with no one asking to take our order. The burger had absolutely no flavor - the meat itself was totally bland, the burger was overcooked and there was no charcoal flavor. I also decided not to send it back because our waitress looked like she was on the verge of having a heart attack. I dressed up to be treated so rudely! It was probably dirt. The food sucked, which we expected but it sucked more than we could have imagined. When my order arrived, one of the gyros was missing. I'm not really sure how Joey's was voted best hot dog in the Valley by readers of Phoenix Magazine. The live music on Fridays totally blows. I've never been more insulted or felt disrespected. The warm beer didn't help. I've lived here since 1979 and this was the first (and last) time I've stepped foot into this place. The WORST EXPERIENCE EVER. Must have been an off night at this place. If that bug never showed up I would have given a 4 for sure, but on the other side of the wall where this bug was climbing was the kitchen. For about 10 minutes, we we're waiting for her salad when we realized that it wasn't coming any time soon. Won't go back. Soggy and not good. Which are small and not worth the price. The shower area is outside so you can only rinse, not take a full shower, unless you don't mind being nude for everyone to see! The service was a bit lacking. Lobster Bisque, Bussell Sprouts, Risotto, Filet ALL needed salt and pepper..and of course there is none at the tables. Hopefully this bodes for them going out of business and someone who can cook can come in. It was either too cold, not enough flavor or just bad. As for the \"mains,\" also uninspired. If the food isn't bad enough for you, then enjoy dealing with the world's worst/annoying drunk people. Ordered a double cheeseburger & got a single patty that was falling apart (picture uploaded) Yeah, still sucks. If it were possible to give them zero stars, they'd have it. The descriptions said \"yum yum sauce\" and another said \"eel sauce\", yet another said \"spicy mayo\"...well NONE of the rolls had sauces on them. If she had not rolled the eyes we may have stayed... Not sure if we will go back and try it again. Horrible - don't waste your time and money. By this time our side of the restaurant was almost empty so there was no excuse. (It wasn't busy either) Also, the building was FREEZING cold. like the other reviewer said \"you couldn't pay me to eat at this place again.\" -Drinks took close to 30 minutes to come out at one point. Based on the sub-par service I received and no effort to show their gratitude for my business I won't be going back. There is nothing privileged about working/eating there. Overall, I don't think that I would take my parents to this place again because they made most of the similar complaints that I silently felt too. I as well would've given godfathers zero stars if possible. very tough and very short on flavor! I have been in more than a few bars in Vegas, and do not ever recall being charged for tap water. The service was not up to par, either. For a self proclaimed coffee cafe, I was wildly disappointed. I've had better, not only from dedicated boba tea spots, but even from Jenni Pho. I think not again I had the mac salad and it was pretty bland so I will not be getting that again. Service stinks here! I waited and waited. This place is not quality sushi, it is not a quality restaurant. Things that went wrong: - They burned the saganaki. We waited an hour for what was a breakfast I could have done 100 times better at home. I hate to disagree with my fellow Yelpers, but my husband and I were so disappointed with this place. Waited 2 hours & never got either of our pizzas as many other around us who came in later did! Just don't know why they were so slow. I live in the neighborhood so I am disappointed I won't be back here, because it is a convenient location. Before I go in to why I gave a 1 star rating please know that this was my third time eating at Bachi burger before writing a review. Never again will I be dining at this place! Please stay away from the shrimp stir fried noodles. The potato chip order was sad... I could probably count how many chips were in that box and it was probably around 12. Food was really boring. This greedy corporation will NEVER see another dime from me! Will never, ever go back. As much as I'd like to go back, I can't get passed the atrocious service and will never return. She ordered a toasted English muffin that came out untoasted. Never going back. The bus boy on the other hand was so rude. By this point, my friends and I had basically figured out this place was a joke and didn't mind making it publicly and loudly known. The only downside is the service. Also, the fries are without a doubt the worst fries I've ever had. I go to far too many places and I've never seen any restaurant that serves a 1 egg breakfast, especially for $4.00. When my mom and I got home she immediately got sick and she only had a few bites of salad. The servers are not pleasant to deal with and they don't always honor Pizza Hut coupons. Everything was gross. First - the bathrooms at this location were dirty- Seat covers were not replenished & just plain yucky!!! The burger... I got the \"Gold Standard\" a $17 burger and was kind of disappointed. There is nothing authentic about this place. the spaghetti is nothing special whatsoever. The selection was probably the worst I've seen in Vegas.....there was none. We sat another ten minutes and finally gave up and left. He was terrible! It shouldn't take 30 min for pancakes and eggs. Sadly, Gordon Ramsey's Steak is a place we shall sharply avoid during our next trip to Vegas. The buffet is small and all the food they offered was BLAND. Definitely a turn off for me & i doubt I'll be back unless someone else is buying. I find wasting food to be despicable, but this just wasn't food. My wife had the Lobster Bisque soup which was lukewarm. I left with a stomach ache and felt sick the rest of the day. They dropped more than the ball. And the beans and rice were mediocre at best. I took back my money and got outta there. RUDE & INCONSIDERATE MANAGEMENT. The staff are now not as friendly, the wait times for being served are horrible, no one even says hi for the first 10 minutes. I won't be back. The food was terrible. WILL NEVER EVER GO BACK AND HAVE TOLD MANY PEOPLE WHAT HAD HAPPENED. I don't recommend unless your car breaks down in front of it and you are starving. This place deserves one star and 90% has to do with the food. This is a disgrace. I'm probably one of the few people to ever go to Ians and not like it. This one is simply a disappointment. Overall, I was very disappointed with the quality of food at Bouchon. I don't have to be an accountant to know I'm getting screwed! Left very frustrated. TOTAL WASTE OF TIME. For service, I give them no stars. I can take a little bad service but the food sucks. Gave up trying to eat any of the crust (teeth still sore). But now I was completely grossed out. On the ground, right next to our table was a large, smeared, been-stepped-in-and-tracked-everywhere pile of green bird poop. Furthermore, you can't even find hours of operation on the website! We've tried to like this place but after 10+ times I think we're done with them. What a mistake that was! Waiter was a jerk. Strike 2, who wants to be rushed. I never come again. Ordered an appetizer and took 40 minutes and then the pizza another 10 minutes. It was a huge awkward 1.5lb piece of cow that was 3/4ths gristle and fat. I'll take my business dinner dollars elsewhere. Nothing special. Will not be back. Sauce was tasteless. I don't think we'll be going back anytime soon. I am far from a sushi connoisseur but I can definitely tell the difference between good food and bad food and this was certainly bad food. I was so insulted. The last 3 times I had lunch here has been bad. The chicken wings contained the driest chicken meat I have ever eaten. Definitely not worth the $3 I paid. The manager was the worst. I don't think I'll be running back to Carly's anytime soon for food. This is was due to the fact that it took 20 minutes to be acknowledged, then another 35 minutes to get our food...and they kept forgetting things. The one down note is the ventilation could use some upgrading. Don't waste your time here. Total letdown, I would much rather just go to the Camelback Flower Shop and Cartel Coffee. Third, the cheese on my friend's burger was cold. We asked for the bill to leave without eating and they didn't bring that either. Seafood was limited to boiled shrimp and crab legs but the crab legs definitely did not taste fresh. The selection of food was not the best. I dont think I will be back for a very long time. It was attached to a gas station, and that is rarely a good sign. Worse of all, he humiliated his worker right in front of me..Bunch of horrible name callings. And then tragedy struck. I'd rather eat airline food, seriously. I would not recommend this place. Overall I wasn't very impressed with Noca. My gyro was basically lettuce only. Terrible service! Thoroughly disappointed! it was a drive to get there. Anyway, I do not think i will go back there. A greasy, unhealthy meal. first time there and might just be the last. Similarly, the delivery man did not say a word of apology when our food was 45 minutes late. And it was way to expensive. Terrible management. If there were zero stars I would give it zero stars. Worst martini ever! We waited for thirty minutes to be seated (although there were 8 vacant tables and we were the only folks waiting). I won't try going back there even if it's empty. No, I'm going to eat the potato that I found some strangers hair in it. not even a \"hello, we will be right with you.\" The desserts were a bit strange. I guess maybe we went on an off night but it was disgraceful. However, my recent experience at this particular location was not so good. I know this is not like the other restaurants at all, something is very off here! AVOID THIS ESTABLISHMENT! I think this restaurant suffers from not trying hard enough. My salad had a bland vinegrette on the baby greens and hearts of Palm. After two I felt disgusting. I will never go back to this place and will never ever recommended this place to anyone! The servers went back and forth several times, not even so much as an \"Are you being helped?\" AN HOUR... seriously? I consider this theft. Eew... This location needs a complete overhaul. We recently witnessed her poor quality of management towards other guests as well. Waited and waited and waited. The pizza tasted old, super chewy in not a good way. I swung in to give them a try but was deeply disappointed. Boy was that sucker dry!!. Over rated. If you look for authentic Thai food, go else where. After I pulled up my car I waited for another 15 minutes before being acknowledged. I hate those things as much as cheap quality black olives. The kids play area is NASTY! It was extremely \"crumby\" and pretty tasteless. It was a pale color instead of nice and char and has NO flavor. I got home to see the driest damn wings ever! Not good for the money. We got sitting fairly fast, but, ended up waiting 40 minutes just to place our order, another 30 minutes before the food arrived. I just wanted to leave. I will not be eating there again. !....THE OWNERS REALLY REALLY need to quit being soooooo cheap let them wrap my freaking sandwich in two papers not one! I checked out this place a couple years ago and was not impressed. The chicken I got was definitely reheated and was only ok, the wedges were cold and soggy. Sorry, I will not be getting food from here anytime soon :( My friend did not like his Bloody Mary. Despite how hard I rate businesses, its actually rare for me to give a 1 star. I will not return. I had the chicken Pho and it tasted very bland. Very disappointing!!! a drive thru means you do not want to wait around for half an hour for your food, but somehow when we end up going here they make us wait and wait. Best of luck to the rude and non-customer service focused new management. Any grandmother can make a roasted chicken better than this one. I asked multiple times for the wine list and after some time of being ignored I went to the hostess and got one myself. Same evening, him and I are both drastically sick. Ordered burger rare came in we'll done. Tried to go here for lunch and it was a madhouse. After waiting an hour and being seated, I was not in the greatest of moods. I'm not eating here! Maybe if they weren't cold they would have been somewhat edible. This place has a lot of promise but fails to deliver. Very bad Experience! What a mistake. Food was average at best. We won't be going back anytime soon! Very Very Disappointed ordered the $35 Big Bay Plater. Not much flavor to them, and very poorly constructed. The fried rice was dry as well. Google mediocre and I imagine Smashburger will pop up. dont go here. As a sushi lover avoid this place by all means. The plantains were the worst I've ever tasted. Service was slow and not attentive. Your staff spends more time talking to themselves than me. Total brunch fail. I probably won't be back, to be honest. Went for lunch - service was slow. We had so much to say about the place before we walked in that he expected it to be amazing, but was quickly disappointed. I was mortified. Needless to say, we will never be back here again. Anyways, The food was definitely not filling at all, and for the price you pay you should expect more. The chips that came out were dripping with grease, and mostly not edible. I wasn't really impressed with Strip Steak. I work in the hospitality industry in Paradise Valley and have refrained from recommending Cibo any longer. Would not recommend to others. I mean really, how do you get so famous for your fish and chips when it's so terrible!?! Not my thing. If you are reading this please don't go there. Tonight I had the Elk Filet special...and it sucked. We ordered some old classics and some new dishes after going there a few times and were sorely disappointed with everything. A FLY was in my apple juice.. A FLY!!!!!!!! The food was barely lukewarm, so it must have been sitting waiting for the server to bring it out to us. Ryan's Bar is definitely one Edinburgh establishment I won't be revisiting. Probably never coming back, and wouldn't recommend it. Friend's pasta -- also bad, he barely touched it. It was way over fried. I'm not sure how long we stood there but it was long enough for me to begin to feel awkwardly out of place. When I opened the sandwich, I was impressed, but not in a good way. Will not be back! I have watched their prices inflate, portions get smaller and management attitudes grow rapidly! Main thing I didn't enjoy is that the crowd is of older crowd, around mid 30s and up. I had to wait over 30 minutes to get my drink and longer to get 2 arepas. The service was poor and thats being nice. The place was not clean and the food oh so stale! The chicken dishes are OK, the beef is like shoe leather. But the service was beyond bad. Tasted like dirt. My sashimi was poor quality being soggy and tasteless. the food is not tasty at all, not to say its \"real traditional Hunan style\". What did bother me, was the slow service. Their frozen margaritas are WAY too sugary for my taste. So in a nutshell: 1) The restaraunt smells like a combination of a dirty fish market and a sewer. My girlfriend's veal was very bad. Unfortunately, it was not good. Bland and flavorless is a good way of describing the barely tepid meat. The chains, which I'm no fan of, beat this place easily. We will not be coming back. Once your food arrives it's meh. Paying $7.85 for a hot dog and fries that looks like it came out of a kid's meal at the Wienerschnitzel is not my idea of a good meal. My brother in law who works at the mall ate here same day, and guess what he was sick all night too. Mediocre food. I'm super pissd. Why are these sad little vegetables so overcooked? I had high hopes for this place since the burgers are cooked over a charcoal grill, but unfortunately the taste fell flat, way flat. Not a single employee came out to see if we were OK or even needed a water refill once they finally served us our food. The server was very negligent of our needs and made us feel very unwelcome... I would not suggest this place! The service was terrible though. This place is overpriced, not consistent with their boba, and it really is OVERPRICED! It was packed!! The food was terrible. It kept getting worse and worse so now I'm officially done. This place should honestly be blown up. But I definitely would not eat here again. Do not waste your money here! Awful service. Won't ever go here again. Food quality has been horrible. For that price I can think of a few place I would have much rather gone. The service here is fair at best. I do love sushi, but I found Kabuki to be over-priced, over-hip and under-services. Do yourself a favor and stay away from this dish. Very poor service. No one at the table thought the food was above average or worth the wait that we had for it. I paid the bill but did not tip because I felt the server did a terrible job. I have never had such bland food which surprised me considering the article we read focused so much on their spices and flavor. Food is way overpriced and portions are fucking small. for 40 bucks a head, i really expect better food. I won't be back. We could not believe how dirty the oysters were! This place deserves no stars. I would not recommend this place. To my disbelief, each dish qualified as the worst version of these foods I have ever tasted. Bad day or not, I have a very low tolerance for rude customer service people, it is your job to be nice and polite, wash dishes otherwise!! I probably would not go here again. The Wife hated her meal (coconut shrimp), and our friends really did not enjoy their meals, either. My fella got the huevos rancheros and they didn't look too appealing. I probably won't be coming back here. Worst food/service I've had in a while. Hot dishes are not hot, cold dishes are close to room temp.I watched staff prepare food with BARE HANDS, no gloves.Everything is deep fried in oil. The feel of the dining room was more college cooking course than high class dining and the service was slow at best. I started this review with two stars, but I'm editing it to give it only one. this is the worst sushi i have ever eat besides Costco's. Weird vibe from owners. There was hardly any meat. I've had better bagels from the grocery store. Now the burgers aren't as good, the pizza which used to be amazing is doughy and flavorless. I found a six inch long piece of wire in my salsa. The service was terrible, food was mediocre. I ordered Albondigas soup - which was just warm - and tasted like tomato soup with frozen meatballs. On three different occasions I asked for well done or medium well, and all three times I got the bloodiest piece of meat on my plate. I had about two bites and refused to eat anymore. The service was extremely slow. After 20 minutes wait, I got a table. No allergy warnings on the menu, and the waitress had absolutely no clue as to which meals did or did not contain peanuts. Pricing is a bit of a concern at Mellow Mushroom. Worst Thai ever. Highly unprofessional and rude to a loyal patron! Spend your money elsewhere. The Buffet at Bellagio was far from what I anticipated. And the drinks are WEAK, people! -My order was not correct. Also, I feel like the chips are bought, not made in house. After the disappointing dinner we went elsewhere for dessert. We won't be returning. I seriously cannot believe that the owner has so many unexperienced employees that all are running around like chickens with their heads cut off. Very, very sad. i felt insulted and disrespected, how could you talk and judge another human being like that? How can you call yourself a steakhouse if you can't properly cook a steak, I don't understand! I'm not impressed with the concept or the food. The only thing I wasn't too crazy about was their guacamole as I don't like it puréed. There is really nothing for me at postinos, hope your experience is better I got food poisoning here at the buffet. They brought a fresh batch of fries and I was thinking yay something warm but no! What SHOULD have been a hilarious, yummy Christmas Eve dinner to remember was the biggest fail of the entire trip for us. Needless to say, I won't be going back anytime soon. This place is disgusting! The RI style calamari was a joke. However, there was so much garlic in the fondue, it was barely edible. I could barely stomach the meal, but didn't complain because it was a business lunch. It was so bad, I had lost the heart to finish it. It also took her forever to bring us the check when we asked for it. We aren't ones to make a scene at restaurants but I just don't get it...definitely lost the love after this one! Disappointing experience. The food is about on par with Denny's, which is to say, not good at all. If you want to wait for mediocre food and downright terrible service, then this is the place for you. WAAAAAAyyyyyyyyyy over rated is all I am saying. We won't be going back. The place was fairly clean but the food simply wasn't worth it. This place lacked style!! The sangria was about half of a glass wine full and was $12, ridiculous. Don't bother coming here. The meat was pretty dry, I had the sliced brisket and pulled pork. The building itself seems pretty neat, the bathroom is pretty trippy, but I wouldn't eat here again. It was equally awful. Probably not in a hurry to go back. very slow at seating even with reservation. Not good by any stretch of the imagination. The cashew cream sauce was bland and the vegetables were undercooked. The chipolte ranch dipping sause was tasteless, seemed thin and watered down with no heat. It was a bit too sweet, not really spicy enough, and lacked flavor. I was VERY disappointed!! This place is horrible and way overpriced. Maybe it's just their Vegetarian fare, but I've been twice and I thought it was average at best. It wasn't busy at all and now we know why. The tables outside are also dirty a lot of the time and the workers are not always friendly and helpful with the menu. The ambiance here did not feel like a buffet setting, but more of a douchey indoor garden for tea and biscuits. Con: spotty service. The fries were not hot, and neither was my burger. But then they came back cold. Then our food came out, disappointment ensued. The real disappointment was our waiter. My husband said she was very rude... did not even apologize for the bad food or anything. The only reason to eat here would be to fill up before a night of binge drinking just to get some carbs in your stomach. Insults, profound deuchebaggery, and had to go outside for a smoke break while serving just to solidify it. If someone orders two tacos don't' you think it may be part of customer service to ask if it is combo or ala cart? She was quite disappointed although some blame needs to be placed at her door. After all the rave reviews I couldn't wait to eat here......what a disappointment! Del Taco is pretty nasty and should be avoided if possible. It's NOT hard to make a decent hamburger. But I don't like it. Hell no will I go back We've have gotten a much better service from the pizza place next door than the services we received from this restaurant. I don't know what the big deal is about this place, but I won't be back \"ya'all\". I immediately said I wanted to talk to the manager but I did not want to talk to the guy who was doing shots of fireball behind the bar. The ambiance isn't much better. Unfortunately, it only set us up for disapppointment with our entrees. The food wasn't good. Your servers suck, wait, correction, our server Heimer sucked. What happened next was pretty....off putting. too bad cause I know it's family owned, I really wanted to like this place. Overpriced for what you are getting. I vomited in the bathroom mid lunch. I kept looking at the time and it had soon become 35 minutes, yet still no food. I have been to very few places to eat that under no circumstances would I ever return to, and this tops the list. We started with the tuna sashimi which was brownish in color and obviously wasn't fresh. Food was below average. It sure does beat the nachos at the movies but I would expect a little bit more coming from a restaurant. All in all, Ha Long Bay was a bit of a flop. The problem I have is that they charge $11.99 for a sandwich that is no bigger than a Subway sub (which offers better and more amount of vegetables). Shrimp- When I unwrapped it (I live only 1/2 a mile from Brushfire) it was literally ice cold. It lacked flavor, seemed undercooked, and dry. It really is impressive that the place hasn't closed down. I would avoid this place if you are staying in the Mirage. The refried beans that came with my meal were dried out and crusty and the food was bland. Spend your money and time some place else. A lady at the table next to us found a live green caterpillar In her salad. the presentation of the food was awful. I can't tell you how disappointed I was. I think food should have flavor and texture and both were lacking. Appetite instantly gone. Overall I was not impressed and would not go back. The whole experience was underwhelming, and I think we'll just go to Ninja Sushi next time. Then, as if I hadn't wasted enough of my life there, they poured salt in the wound by drawing out the time it took to bring the check.\n"
          ]
        }
      ]
    },
    {
      "cell_type": "code",
      "source": [
        "print(Positive_text)"
      ],
      "metadata": {
        "colab": {
          "base_uri": "https://localhost:8080/"
        },
        "id": "SRdtGXlKiGh5",
        "outputId": "70fc1a75-dc7b-419d-84ef-52a30023776a"
      },
      "execution_count": 26,
      "outputs": [
        {
          "output_type": "stream",
          "name": "stdout",
          "text": [
            "Wow... Loved this place. Stopped by during the late May bank holiday off Rick Steve recommendation and loved it. The selection on the menu was great and so were the prices. The fries were great too. A great touch. Service was very prompt. I tried the Cape Cod ravoli, chicken, with cranberry...mmmm! Highly recommended. The food, amazing. Service is also cute. I could care less... The interior is just beautiful. So they performed. That's right....the red velvet cake.....ohhh this stuff is so good. This hole in the wall has great Mexican street tacos, and friendly staff. Also there are combos like a burger, fries, and beer for 23 which is a decent deal. I found this place by accident and I could not be happier. Overall, I like this place a lot. The only redeeming quality of the restaurant was that it was very inexpensive. Ample portions and good prices. My first visit to Hiro was a delight! The shrimp tender and moist. On a positive note, our server was very attentive and provided great service. The only thing I did like was the prime rib and dessert section. The burger is good beef, cooked just right. If you want a sandwich just go to any Firehouse!!!!! My side Greek salad with the Greek dressing was so tasty, and the pita and hummus was very refreshing. We ordered the duck rare and it was pink and tender on the inside with a nice char on the outside. He came running after us when he realized my husband had left his sunglasses on the table. Their chow mein is so good! The portion was huge! Loved it...friendly servers, great food, wonderful and imaginative menu. The salad had just the right amount of sauce to not over power the scallop, which was perfectly cooked. This place receives stars for their APPETIZERS!!! The cocktails are all handmade and delicious. We'd definitely go back here again. We are so glad we found this place. Great food and service, huge portions and they give a military discount. Always a great time at Dos Gringos! Update.....went back for a second time and it was still just as amazing A great way to finish a great. The deal included 5 tastings and 2 drinks, and Jeff went above and beyond what we expected. - Really, really good rice, all the time. The sweet potato fries were very good and seasoned well. Today is the second time I've been to their lunch buffet and it was pretty good. This place has it! I love the Pho and the spring rolls oh so yummy you have to try. All I have to say is the food was amazing!!! Omelets are to die for! Everything was fresh and delicious! It's like a really sexy party in your mouth, where you're outrageously flirting with the hottest person at the party. Best breakfast buffet!!! Will be back again! Food arrived quickly! On the up side, their cafe serves really good food. Our server was fantastic and when he found out the wife loves roasted garlic and bone marrow, he added extra to our meal and another marrow to go! The only good thing was our waiter, he was very helpful and kept the bloddy mary's coming. Best Buffet in town, for the price you cannot beat it. I LOVED their mussels cooked in this wine reduction, the duck was tender, and their potato dishes were delicious. This is one of the better buffets that I have been to. So we went to Tigerlilly and had a fantastic afternoon! The food was delicious, our bartender was attentive and personable AND we got a great deal! The ambience is wonderful and there is music playing. Will go back next trip out. Sooooo good!! This is a really fantastic Thai restaurant which is definitely worth a visit. Nice, spicy and tender. Good prices. Check it out. Service was fine and the waitress was friendly. The guys all had steaks, and our steak loving son who has had steak at the best and worst places said it was the best steak he's ever eaten. We thought you'd have to venture further away to get good sushi, but this place really hit the spot that night. Phenomenal food, service and ambiance. Definitely worth venturing off the strip for the pork belly, will return next time I'm in Vegas. Penne vodka excellent! They have a good selection of food including a massive meatloaf sandwich, a crispy chicken wrap, a delish tuna melt and some tasty burgers. Delicious NYC bagels, good selections of cream cheese, real Lox with capers even. Great Subway, in fact it's so good when you come here every other Subway will not meet your expectations. I had a seriously solid breakfast here. This is one of the best bars with food in Vegas. My drink was never empty and he made some really great menu suggestions. Nice blanket of moz over top but i feel like this was done to cover up the subpar food. The bathrooms are clean and the place itself is well decorated. My fiancé and I came in the middle of the day and we were greeted and seated right away. This is a great restaurant at the Mandalay Bay. Some highlights : Great quality nigiri here! the staff is friendly and the joint is always clean. this was a different cut than the piece the other day but still wonderful and tender s well as well flavored. I ordered the Voodoo pasta and it was the first time I'd had really excellent pasta since going gluten free several years ago. this place is good. I was seated immediately. Their menu is diverse, and reasonably priced. Restaurant is always full but never a wait. DELICIOUS!! This place is hands-down one of the best places to eat in the Phoenix metro area. Bacon is hella salty. This really is how Vegas fine dining used to be, right down to the menus handed to the ladies that have no prices listed. The waitresses are very friendly. Lordy, the Khao Soi is a dish that is not to be missed for curry lovers! Everything on the menu is terrific and we were also thrilled that they made amazing accommodations for our vegetarian daughter. The atmosphere is modern and hip, while maintaining a touch of coziness. Not a weekly haunt, but definitely a place to come back to every once in a while. Love this place, hits the spot when I want something healthy but not lacking in quantity or flavor. I ordered the Lemon raspberry ice cocktail which was also incredible. Interesting decor. What I really like there is the crepe station. Also were served hot bread and butter, and home made potato chips with bacon bits on top....very original and very good. you can watch them preparing the delicious food!) Both of the egg rolls were fantastic. I had a salad with the wings, and some ice cream for dessert and left feeling quite satisfied. The best place to go for a tasty bowl of Pho! Very friendly staff. It is worth the drive. I had heard good things about this place, but it exceeding every hope I could have dreamed of. Food was great and so was the serivce! Great brunch spot. Service is friendly and inviting. Very good lunch spot. The sides are delish - mixed mushrooms, yukon gold puree, white corn - beateous. My friend loved the salmon tartar. Extremely Tasty! Waitress was good though! The Jamaican mojitos are delicious. - the food is rich so order accordingly. I loved the bacon wrapped dates. This is an unbelievable BARGAIN! The folks at Otto always make us feel so welcome and special. This is the place where I first had pho and it was amazing!! This wonderful experience made this place a must-stop whenever we are in town again. Very very fun chef. Great place to have a couple drinks and watch any and all sporting events as the walls are covered with TV's. I'd say that would be the hardest decision... Honestly, all of M's dishes taste how they are supposed to taste (amazing). Everyone is very attentive, providing excellent customer service. Now this dish was quite flavourful. Seriously flavorful delights, folks. Much better than the other AYCE sushi place I went to in Vegas. The lighting is just dark enough to set the mood. Owner's are really great people.! The Greek dressing was very creamy and flavorful. Now the pizza itself was good the peanut sauce was very tasty. We had 7 at our table and the service was pretty fast. Fantastic service here. They know how to make them here. I hope this place sticks around. The restaurant atmosphere was exquisite. Good service, very clean, and inexpensive, to boot! The seafood was fresh and generous in portion. Plus, it's only 8 bucks. Thus far, have only visited twice and the food was absolutely delicious each time. Just as good as when I had it more than a year ago! The Veggitarian platter is out of this world! You cant go wrong with any of the food here. You can't beat that. Stopped by this place while in Madison for the Ironman, very friendly, kind staff. The chefs were friendly and did a good job. I liked the patio and the service was outstanding. The goat taco didn't skimp on the meat and wow what FLAVOR! I went to Bachi Burger on a friend's recommendation and was not disappointed. I would definitely recommend the wings as well as the pizza. Great Pizza and Salads! This place is amazing! The staff is great, the food is delish, and they have an incredible beer selection. I didn't know pulled pork could be soooo delicious. You get incredibly fresh fish, prepared with care. I love the fact that everything on their menu is worth it. The food was excellent and service was very good. Good beer & drink selection and good food selection. Good Service-check! In the summer, you can dine in a charming outdoor patio - so very delightful. I did not expect this to be so good! Fantastic food! The food was very good. Great food for the price, which is very high quality and house made. Back to good BBQ, lighter fare, reasonable pricing and tell the public they are back to the old ways. And considering the two of us left there very full and happy for about $20, you just can't go wrong. All the bread is made in-house! Service was exceptional and food was a good as all the reviews. A couple of months later, I returned and had an amazing meal. Favorite place in town for shawarrrrrrma!!!!!! The black eyed peas and sweet potatoes... UNREAL! You won't be disappointed. They could serve it with just the vinaigrette and it may make for a better overall dish, but it was still very good. Both of them were truly unbelievably good, and I am so glad we went back. We had fantastic service, and were pleased by the atmosphere. I love this place. Great service and food. OMG, the food was delicioso! Of all the dishes, the salmon was the best, but all were great. The vegetables are so fresh and the sauce feels like authentic Thai. It's worth driving up from Tucson! Pretty good beer selection too. This place is like Chipotle, but BETTER. Classy/warm atmosphere, fun and fresh appetizers, succulent steaks (Baseball steak!!!!! 5 stars for the brick oven bread app! I have eaten here multiple times, and each time the food was delicious. Everyone is treated equally special. It was delicious!!! On the good side, the staff was genuinely pleasant and enthusiastic - a real treat. As always the evening was wonderful and the food delicious! Best fish I've ever had in my life! (The bathroom is just next door and very nice.) This is an Outstanding little restaurant with some of the Best Food I have ever tasted. Pretty cool I would say. Server did a great job handling our large rowdy table. Would come back again if I had a sushi craving while in Vegas. The staff are great, the ambiance is great. He deserves 5 stars. The dining space is tiny, but elegantly decorated and comfortable. They will customize your order any way you'd like, my usual is Eggplant with Green Bean stir fry, love it! Best tacos in town by far!! In an interesting part of town, this place is amazing. They have great dinners. The service was outshining & I definitely recommend the Halibut. I will come back here every time I'm in Vegas. Def coming back to bowl next time If you want healthy authentic or ethic food, try this place. I will continue to come here on ladies night andddd date night ... highly recommend this place to anyone who is in the area. I have been here several times in the past, and the experience has always been great. We walked away stuffed and happy about our first Vegas buffet experience. Service was excellent and prices are pretty reasonable considering this is Vegas and located inside the Crystals shopping mall by Aria. To summarize... the food was incredible, nay, transcendant... but nothing brings me joy quite like the memory of the pneumatic condiment dispenser. Kids pizza is always a hit too with lots of great side dish options for the kiddos! Service is perfect and the family atmosphere is nice to see. Cooked to perfection and the service was impeccable. Great place to eat, reminds me of the little mom and pop shops in the San Francisco Bay Area. Today was my first taste of a Buldogis Gourmet Hot Dog and I have to tell you it was more than I ever thought possible. I'll definitely be in soon again. Food was really good and I got full petty fast. Service was fantastic. I don't know what kind it is but they have the best iced tea. Come hungry, leave happy and stuffed! I can assure you that you won't be disappointed. I really enjoyed eating here. First time going but I think I will quickly become a regular. Our server was very nice, and even though he looked a little overwhelmed with all of our needs, he stayed professional and friendly until the end. From what my dinner companions told me...everything was very fresh with nice texture and taste. No complaints! This is some seriously good pizza and I'm an expert/connisseur on the topic. These are the nicest restaurant owners I've ever come across. We loved the biscuits!!! Service is quick and friendly. So absolutley fantastic. definitely will come back here again. I like Steiners because it's dark and it feels like a bar. Wow very spicy but delicious. If you're not familiar, check it out. I'd love to go back. Anyway, this FS restaurant has a wonderful breakfast/lunch. Each day of the week they have a different deal and it's all so delicious! Not to mention the combination of pears, almonds and bacon is a big winner! The food is delicious and just spicy enough, so be sure to ask for spicier if you prefer it that way. My ribeye steak was cooked perfectly and had great mesquite flavor. Food was so gooodd. The food was very good and I enjoyed every mouthful, an enjoyable relaxed venue for couples small family groups etc. Nargile - I think you are great. Best tater tots in the southwest. We loved the place. The vanilla ice cream was creamy and smooth while the profiterole (choux) pastry was fresh enough. Im in AZ all the time and now have my new spot. The inside is really quite nice and very clean. The food was outstanding and the prices were very reasonable. Love the margaritas, too! This was my first and only Vegas buffet and it did not disappoint. Very good, though! Great pork sandwich. We enjoy their pizza and brunch. The steaks are all well trimmed and also perfectly cooked. We had a group of 70+ when we claimed we would only have 40 and they handled us beautifully. I LOVED it! This place is a jewel in Las Vegas, and exactly what I've been hoping to find in nearly ten years living here. Delicious and I will absolutely be back! This isn't a small family restaurant, this is a fine dining establishment. They had a toro tartare with a cavier that was extraordinary and I liked the thinly sliced wagyu with white truffle. How awesome is that. I will be back many times soon. The menu had so much good stuff on it i could not decide! CONCLUSION: Very filling meals. Their daily specials are always a hit with my group. The pancake was also really good and pretty large at that. This was my first crawfish experience, and it was delicious! Their monster chicken fried steak and eggs is my all time favorite. Waitress was sweet and funny. I also had to taste my Mom's multi-grain pumpkin pancakes with pecan butter and they were amazing, fluffy, and delicious! Cant say enough good things about this place. The ambiance was incredible. The waitress and manager are so friendly. I don't each much pasta, but I love the homemade /hand made pastas and thin pizzas here. Give it a try, you will be happy you did. By far the BEST cheesecurds we have ever had! Reasonably priced also! Everything was perfect the night we were in. The food is very good for your typical bar food. At first glance it is a lovely bakery cafe - nice ambiance, clean, friendly staff. Point your finger at any item on the menu, order it and you won't be disappointed. Oh this is such a thing of beauty, this restaurant. If you haven't gone here GO NOW! Those burgers were amazing. Be sure to order dessert, even if you need to pack it to-go - the tiramisu and cannoli are both to die for. This was my first time and I can't wait until the next. The bartender was also nice. Everything was good and tasty! This place is two thumbs up....way up. The best place in Vegas for breakfast (just check out a Sat, or Sun. If you love authentic Mexican food and want a whole bunch of interesting, yet delicious meats to choose from, you need to try this place. An excellent new restaurant by an experienced Frenchman. Great steak, great sides, great wine, amazing desserts. The steak and the shrimp are in my opinion the best entrees at GC. I had the opportunity today to sample your amazing pizzas! The yellowtail carpaccio was melt in your mouth fresh. Just spicy enough.. Perfect actually. Last night was my second time dining here and I was so happy I decided to go back! My boyfriend and I came here for the first time on a recent trip to Vegas and could not have been more pleased with the quality of food and service. I really do recommend this place, you can go wrong with this donut place! Nice ambiance. I would recommend saving room for this! All of the tapas dishes were delicious! I *heart* this place. A good time! I believe that this place is a great stop for those with a huge belly and hankering for sushi. Generous portions and great taste. Food was delicious! He also came back to check on us regularly, excellent service. Our server was super nice and checked on us many times. Service was good and the company was better! The staff are also very friendly and efficient. As for the service: I'm a fan, because it's quick and you're being served by some nice folks. Their steaks are 100% recommended! Great food and great service in a clean and friendly setting. All in all, I can assure you I'll be back. My breakfast was perpared great, with a beautiful presentation of 3 giant slices of Toast, lightly dusted with powdered sugar. Great place fo take out or eat in. The waitress was friendly and happy to accomodate for vegan/veggie options. OMG I felt like I had never eaten Thai food until this dish. The croutons also taste homemade which is an extra plus. It'll be a regular stop on my trips to Phoenix! I really enjoyed Crema Café before they expanded. I even told friends they had the BEST breakfast. I miss it and wish they had one in Philadelphia! They also have the best cheese crisp in town. Good value, great food, great service. Couldn't ask for a more satisfying meal. The food is good. It was awesome. We made the drive all the way from North Scottsdale... and I was not one bit disappointed! An absolute must visit! The cow tongue and cheek tacos are amazing. They really want to make your experience a good one. The grilled chicken was so tender and yellow from the saffron seasoning. Pretty awesome place. Ambience is perfect. The staff is always super friendly and helpful, which is especially cool when you bring two small boys and a baby! Four stars for the food & the guy in the blue shirt for his great vibe & still letting us in to eat ! The roast beef sandwich tasted really good! High-quality chicken on the chicken Caesar salad. We were promptly greeted and seated. I was proven dead wrong by this sushi bar, not only because the quality is great, but the service is fast and the food, impeccable. This is a good joint. The Macarons here are insanely good. Our waiter was very attentive, friendly, and informative. Great food. Great place to relax and have an awesome burger and beer. It is PERFECT for a sit-down family meal or get together with a few friends. The patio seating was very comfortable. Hands down my favorite Italian restaurant! That just SCREAMS \"LEGIT\" in my book...somethat's also pretty rare here in Vegas. It was just not a fun experience. The atmosphere was great with a lovely duo of violinists playing songs we requested. I personally love the hummus, pita, baklava, falafels and Baba Ganoush (it's amazing what they do with eggplant!). Very convenient, since we were staying at the MGM! The owners are super friendly and the staff is courteous. Both great! Eclectic selection. The sweet potato tots were good but the onion rings were perfection or as close as I have had. The staff was very attentive. And the chef was generous with his time (even came around twice so we can take pictures with him). The owner used to work at Nobu, so this place is really similar for half the price. I promise they won't disappoint. What a great double cheeseburger! Awesome service and food. A fantastic neighborhood gem !!! I can't wait to go back. It's a great place and I highly recommend it. I gave it 5 stars then, and I'm giving it 5 stars now. Dessert: Panna Cotta was amazing. Very good food, great atmosphere.1 Damn good steak. Prices are very reasonable, flavors are spot on, the sauce is home made, and the slaw is not drenched in mayo. The decor is nice, and the piano music soundtrack is pleasant. The steak was amazing...rge fillet relleno was the best seafood plate i have ever had! Good food , good service . It was absolutely amazing. will definitely be back! The sergeant pepper beef sandwich with auju sauce is an excellent sandwich as well. Hawaiian Breeze, Mango Magic, and Pineapple Delight are the smoothies that I've tried so far and they're all good. Have been going since 2007 and every meal has been awesome!! Our server was very nice and attentive as were the other serving staff. The cashier was friendly and even brought the food out to me. The atmosphere here is fun. Service is quick and even \"to go\" orders are just like we like it! That said, our mouths and bellies were still quite pleased. 2 Thumbs Up!! I loved the grilled pizza, reminded me of legit Italian pizza. Only Pros : Large seating area/ Nice bar area/ Great simple drink menu/ The BEST brick oven pizza with homemade dough! They have a really nice atmosphere. After one bite, I was hooked. Cute, quaint, simple, honest. The chicken was deliciously seasoned and had the perfect fry on the outside and moist chicken on the inside. The food was great as always, compliments to the chef. Special thanks to Dylan T. for the recommendation on what to order :) All yummy for my tummy. Awesome selection of beer. Great food and awesome service! One nice thing was that they added gratuity on the bill since our party was larger than 6 or 8, and they didn't expect more tip than that. The Han Nan Chicken was also very tasty. As for the service, I thought it was good. Nicest Chinese restaurant I've been in a while. Overall, I like there food and the service. They also now serve Indian naan bread with hummus and some spicy pine nut sauce that was out of this world. Try them in the airport to experience some tasty food and speedy, friendly service. I love the decor with the Chinese calligraphy wall paper. Never had anything to complain about here. The restaurant is very clean and has a family restaurant feel to it. There was a warm feeling with the service and I felt like their guest for a special treat. An extensive menu provides lots of options for breakfast. I always order from the vegetarian menu during dinner, which has a wide array of options to choose from. Wonderful lil tapas and the ambience made me feel all warm and fuzzy inside. I got to enjoy the seafood salad, with a fabulous vinegrette. The wontons were thin, not thick and chewy, almost melt in your mouth. Level 5 spicy was perfect, where spice didn't over-whelm the soup. We were sat right on time and our server from the get go was FANTASTIC! When I'm on this side of town, this will definitely be a spot I'll hit up again! This is a GREAT place to eat! The jalapeno bacon is soooo good. Food was good, service was good, Prices were good. I'm so happy to be here!!!\" One of the few places in Phoenix that I would definately go back to again . The block was amazing. It's close to my house, it's low-key, non-fancy, affordable prices, good food. * Both the Hot & Sour & the Egg Flower Soups were absolutely 5 Stars! Great time - family dinner on a Sunday night. The flair bartenders are absolutely amazing! These were so good we ordered them twice. I had a pretty satifying experience. Join the club and get awesome offers via email. Perfect for someone (me) who only likes beer ice cold, or in this case, even colder. The nachos are a MUST HAVE! I don't have very many words to say about this place, but it does everything pretty well. The staff is super nice and very quick even with the crazy crowds of the downtown juries, lawyers, and court staff. Great atmosphere, friendly and fast service. When I received my Pita it was huge it did have a lot of meat in it so thumbs up there. The classic Maine Lobster Roll was fantastic. So good I am going to have to review this place twice - once hereas a tribute to the place and once as a tribute to an event held here last night. The chips and salsa were really good, the salsa was very fresh. This place is great!!!!!!!!!!!!!! Once you get inside you'll be impressed with the place. And service was super friendly. This place was such a nice surprise! They were golden-crispy and delicious. I could eat their bruschetta all day it is devine. Lastly, the mozzarella sticks, they were the best thing we ordered. The first time I ever came here I had an amazing experience, I still tell people how awesome the duck was. I love this place. I can say that the desserts were yummy. The seasonal fruit was fresh white peach puree. I love that they put their food in nice plastic containers as opposed to cramming it in little paper takeout boxes. The crêpe was delicate and thin and moist. Best service and food ever, Maria our server was so good and friendly she made our day. They were excellent. Just had lunch here and had a great experience. I recently tried Caballero's and I have been back every week since! The food came out at a good pace. I ate there twice on my last visit, and especially enjoyed the salmon salad. In fact I'm going to round up to 4 stars, just because she was so awesome. the potatoes were great and so was the biscuit. So flavorful and has just the perfect amount of heat. The price is reasonable and the service is great. Went in for happy hour, great list of wines. Some may say this buffet is pricey but I think you get what you pay for and this place you are getting quite a lot! This place is pretty good, nice little vibe in the restaurant. Talk about great customer service of course we will be back. I love their fries and their beans. Always a pleasure dealing with him. They have a plethora of salads and sandwiches, and everything I've tried gets my seal of approval. This place is awesome if you want something light and healthy during the summer. For sushi on the Strip, this is the place to go. The service was great, even the manager came and helped with our table. All in all an excellent restaurant highlighted by great service, a unique menu, and a beautiful setting. My boyfriend and i sat at the bar and had a completely delightful experience. Go To Place for Gyros. I love the owner/chef, his one authentic Japanese cool dude! We definately enjoyed ourselves. Seriously killer hot chai latte. My boyfriend tried the Mediterranean Chicken Salad and fell in love. Their rotating beers on tap is also a highlight of this place. If you stay in Vegas you must get breakfast here at least once. I want to first say our server was great and we had perfect service. The pizza selections are good. I had strawberry tea, which was good. Overall, a great experience. Their regular toasted bread was equally satisfying with the occasional pats of butter... Mmmm...! The chips and sals a here is amazing!!!!!!!!!!!!!!!!!!! This is my new fav Vegas buffet spot. Every time I eat here, I see caring teamwork to a professional degree.\n"
          ]
        }
      ]
    },
    {
      "cell_type": "code",
      "source": [
        "import re\n",
        "import nltk\n",
        "nltk.download('stopwords')\n",
        "from nltk.corpus import stopwords\n",
        "from nltk.stem.porter import PorterStemmer\n",
        "corpus = []\n",
        "for i in range(0, 1000):\n",
        "  review = re.sub('[^a-zA-Z]', ' ', df['Review'][i])\n",
        "  review = review.lower()\n",
        "  review = review.split()\n",
        "  ps = PorterStemmer()\n",
        "  all_stopwords = stopwords.words('english')\n",
        "  all_stopwords.remove('not')\n",
        "  review = [ps.stem(word) for word in review if not word in set(all_stopwords)]\n",
        "  review = ' '.join(review)\n",
        "  corpus.append(review)\n",
        "print(corpus)"
      ],
      "metadata": {
        "colab": {
          "base_uri": "https://localhost:8080/"
        },
        "id": "EPnucbgCiGe-",
        "outputId": "12a2383b-cbe2-4620-ae0f-afea57027a9d"
      },
      "execution_count": 27,
      "outputs": [
        {
          "output_type": "stream",
          "name": "stderr",
          "text": [
            "[nltk_data] Downloading package stopwords to /root/nltk_data...\n",
            "[nltk_data]   Unzipping corpora/stopwords.zip.\n"
          ]
        },
        {
          "output_type": "stream",
          "name": "stdout",
          "text": [
            "['wow love place', 'crust not good', 'not tasti textur nasti', 'stop late may bank holiday rick steve recommend love', 'select menu great price', 'get angri want damn pho', 'honeslti tast fresh', 'potato like rubber could tell made ahead time kept warmer', 'fri great', 'great touch', 'servic prompt', 'would not go back', 'cashier care ever say still end wayyy overpr', 'tri cape cod ravoli chicken cranberri mmmm', 'disgust pretti sure human hair', 'shock sign indic cash', 'highli recommend', 'waitress littl slow servic', 'place not worth time let alon vega', 'not like', 'burritto blah', 'food amaz', 'servic also cute', 'could care less interior beauti', 'perform', 'right red velvet cake ohhh stuff good', 'never brought salad ask', 'hole wall great mexican street taco friendli staff', 'took hour get food tabl restaur food luke warm sever run around like total overwhelm', 'worst salmon sashimi', 'also combo like burger fri beer decent deal', 'like final blow', 'found place accid could not happier', 'seem like good quick place grab bite familiar pub food favor look elsewher', 'overal like place lot', 'redeem qualiti restaur inexpens', 'ampl portion good price', 'poor servic waiter made feel like stupid everi time came tabl', 'first visit hiro delight', 'servic suck', 'shrimp tender moist', 'not deal good enough would drag establish', 'hard judg whether side good gross melt styrofoam want eat fear get sick', 'posit note server attent provid great servic', 'frozen puck disgust worst peopl behind regist', 'thing like prime rib dessert section', 'bad food damn gener', 'burger good beef cook right', 'want sandwich go firehous', 'side greek salad greek dress tasti pita hummu refresh', 'order duck rare pink tender insid nice char outsid', 'came run us realiz husband left sunglass tabl', 'chow mein good', 'horribl attitud toward custom talk one custom enjoy food', 'portion huge', 'love friendli server great food wonder imagin menu', 'heart attack grill downtown vega absolut flat line excus restaur', 'not much seafood like string pasta bottom', 'salad right amount sauc not power scallop perfectli cook', 'rip banana not rip petrifi tasteless', 'least think refil water struggl wave minut', 'place receiv star appet', 'cocktail handmad delici', 'definit go back', 'glad found place', 'great food servic huge portion give militari discount', 'alway great time do gringo', 'updat went back second time still amaz', 'got food appar never heard salt batter fish chewi', 'great way finish great', 'deal includ tast drink jeff went beyond expect', 'realli realli good rice time', 'servic meh', 'took min get milkshak noth chocol milk', 'guess known place would suck insid excalibur use common sens', 'scallop dish quit appal valu well', 'time bad custom servic', 'sweet potato fri good season well', 'today second time lunch buffet pretti good', 'much good food vega feel cheat wast eat opportun go rice compani', 'come like experienc underwhelm relationship parti wait person ask break', 'walk place smell like old greas trap other eat', 'turkey roast beef bland', 'place', 'pan cake everyon rave tast like sugari disast tailor palat six year old', 'love pho spring roll oh yummi tri', 'poor batter meat ratio made chicken tender unsatisfi', 'say food amaz', 'omelet die', 'everyth fresh delici', 'summari larg disappoint dine experi', 'like realli sexi parti mouth outrag flirt hottest person parti', 'never hard rock casino never ever step forward', 'best breakfast buffet', 'say bye bye tip ladi', 'never go', 'back', 'food arriv quickli', 'not good', 'side cafe serv realli good food', 'server fantast found wife love roast garlic bone marrow ad extra meal anoth marrow go', 'good thing waiter help kept bloddi mari come', 'best buffet town price cannot beat', 'love mussel cook wine reduct duck tender potato dish delici', 'one better buffet', 'went tigerlilli fantast afternoon', 'food delici bartend attent person got great deal', 'ambienc wonder music play', 'go back next trip', 'sooooo good', 'real sushi lover let honest yama not good', 'least min pass us order food arriv busi', 'realli fantast thai restaur definit worth visit', 'nice spici tender', 'good price', 'check', 'pretti gross', 'better atmospher', 'kind hard mess steak', 'although much like look sound place actual experi bit disappoint', 'know place manag serv blandest food ever eaten prepar indian cuisin', 'worst servic boot least worri', 'servic fine waitress friendli', 'guy steak steak love son steak best worst place said best steak ever eaten', 'thought ventur away get good sushi place realli hit spot night', 'host staff lack better word bitch', 'bland not like place number reason want wast time bad review leav', 'phenomen food servic ambianc', 'return', 'definit worth ventur strip pork belli return next time vega', 'place way overpr mediocr food', 'penn vodka excel', 'good select food includ massiv meatloaf sandwich crispi chicken wrap delish tuna melt tasti burger', 'manag rude', 'delici nyc bagel good select cream chees real lox caper even', 'great subway fact good come everi subway not meet expect', 'serious solid breakfast', 'one best bar food vega', 'extrem rude realli mani restaur would love dine weekend vega', 'drink never empti made realli great menu suggest', '', 'waiter help friendli rare check us', 'husband ate lunch disappoint food servic', 'red curri much bamboo shoot tasti', 'nice blanket moz top feel like done cover subpar food', 'bathroom clean place well decor', 'menu alway chang food qualiti go servic extrem slow', 'servic littl slow consid serv peopl server food come slow pace', 'give thumb', 'watch waiter pay lot attent tabl ignor us', 'fianc came middl day greet seat right away', 'great restaur mandalay bay', 'wait forti five minut vain', 'crostini came salad stale', 'highlight great qualiti nigiri', 'staff friendli joint alway clean', 'differ cut piec day still wonder tender well well flavor', 'order voodoo pasta first time realli excel pasta sinc go gluten free sever year ago', 'place good', 'unfortun must hit bakeri leftov day everyth order stale', 'came back today sinc reloc still not impress', 'seat immedi', 'menu divers reason price', 'avoid cost', 'restaur alway full never wait', 'delici', 'place hand one best place eat phoenix metro area', 'go look good food', 'never treat bad', 'bacon hella salti', 'also order spinach avocado salad ingredi sad dress liter zero tast', 'realli vega fine dine use right menu hand ladi price list', 'waitress friendli', 'lordi khao soi dish not miss curri lover', 'everyth menu terrif also thrill made amaz accommod vegetarian daughter', 'perhap caught night judg review not inspir go back', 'servic leav lot desir', 'atmospher modern hip maintain touch cozi', 'not weekli haunt definit place come back everi', 'liter sat minut one ask take order', 'burger absolut flavor meat total bland burger overcook charcoal flavor', 'also decid not send back waitress look like verg heart attack', 'dress treat rude', 'probabl dirt', 'love place hit spot want someth healthi not lack quantiti flavor', 'order lemon raspberri ice cocktail also incred', 'food suck expect suck could imagin', 'interest decor', 'realli like crepe station', 'also serv hot bread butter home made potato chip bacon bit top origin good', 'watch prepar delici food', 'egg roll fantast', 'order arriv one gyro miss', 'salad wing ice cream dessert left feel quit satisfi', 'not realli sure joey vote best hot dog valley reader phoenix magazin', 'best place go tasti bowl pho', 'live music friday total blow', 'never insult felt disrespect', 'friendli staff', 'worth drive', 'heard good thing place exceed everi hope could dream', 'food great serivc', 'warm beer help', 'great brunch spot', 'servic friendli invit', 'good lunch spot', 'live sinc first last time step foot place', 'worst experi ever', 'must night place', 'side delish mix mushroom yukon gold pure white corn beateou', 'bug never show would given sure side wall bug climb kitchen', 'minut wait salad realiz come time soon', 'friend love salmon tartar', 'go back', 'extrem tasti', 'waitress good though', 'soggi not good', 'jamaican mojito delici', 'small not worth price', 'food rich order accordingli', 'shower area outsid rins not take full shower unless mind nude everyon see', 'servic bit lack', 'lobster bisqu bussel sprout risotto filet need salt pepper cours none tabl', 'hope bode go busi someon cook come', 'either cold not enough flavor bad', 'love bacon wrap date', 'unbeliev bargain', 'folk otto alway make us feel welcom special', 'main also uninspir', 'place first pho amaz', 'wonder experi made place must stop whenev town', 'food bad enough enjoy deal world worst annoy drunk peopl', 'fun chef', 'order doubl cheeseburg got singl patti fall apart pictur upload yeah still suck', 'great place coupl drink watch sport event wall cover tv', 'possibl give zero star', 'descript said yum yum sauc anoth said eel sauc yet anoth said spici mayo well none roll sauc', 'say would hardest decis honestli dish tast suppos tast amaz', 'not roll eye may stay not sure go back tri', 'everyon attent provid excel custom servic', 'horribl wast time money', 'dish quit flavour', 'time side restaur almost empti excus', 'busi either also build freez cold', 'like review said pay eat place', 'drink took close minut come one point', 'serious flavor delight folk', 'much better ayc sushi place went vega', 'light dark enough set mood', 'base sub par servic receiv effort show gratitud busi go back', 'owner realli great peopl', 'noth privileg work eat', 'greek dress creami flavor', 'overal think would take parent place made similar complaint silent felt', 'pizza good peanut sauc tasti', 'tabl servic pretti fast', 'fantast servic', 'well would given godfath zero star possibl', 'know make', 'tough short flavor', 'hope place stick around', 'bar vega not ever recal charg tap water', 'restaur atmospher exquisit', 'good servic clean inexpens boot', 'seafood fresh gener portion', 'plu buck', 'servic not par either', 'thu far visit twice food absolut delici time', 'good year ago', 'self proclaim coffe cafe wildli disappoint', 'veggitarian platter world', 'cant go wrong food', 'beat', 'stop place madison ironman friendli kind staff', 'chef friendli good job', 'better not dedic boba tea spot even jenni pho', 'like patio servic outstand', 'goat taco skimp meat wow flavor', 'think not', 'mac salad pretti bland not get', 'went bachi burger friend recommend not disappoint', 'servic stink', 'wait wait', 'place not qualiti sushi not qualiti restaur', 'would definit recommend wing well pizza', 'great pizza salad', 'thing went wrong burn saganaki', 'wait hour breakfast could done time better home', 'place amaz', 'hate disagre fellow yelper husband disappoint place', 'wait hour never got either pizza mani around us came later', 'know slow', 'staff great food delish incred beer select', 'live neighborhood disappoint back conveni locat', 'know pull pork could soooo delici', 'get incred fresh fish prepar care', 'go gave star rate pleas know third time eat bachi burger write review', 'love fact everyth menu worth', 'never dine place', 'food excel servic good', 'good beer drink select good food select', 'pleas stay away shrimp stir fri noodl', 'potato chip order sad could probabl count mani chip box probabl around', 'food realli bore', 'good servic check', 'greedi corpor never see anoth dime', 'never ever go back', 'much like go back get pass atroci servic never return', 'summer dine charm outdoor patio delight', 'not expect good', 'fantast food', 'order toast english muffin came untoast', 'food good', 'never go back', 'great food price high qualiti hous made', 'bu boy hand rude', 'point friend basic figur place joke mind make publicli loudli known', 'back good bbq lighter fare reason price tell public back old way', 'consid two us left full happi go wrong', 'bread made hous', 'downsid servic', 'also fri without doubt worst fri ever', 'servic except food good review', 'coupl month later return amaz meal', 'favorit place town shawarrrrrrma', 'black eye pea sweet potato unreal', 'disappoint', 'could serv vinaigrett may make better overal dish still good', 'go far mani place never seen restaur serv egg breakfast especi', 'mom got home immedi got sick bite salad', 'server not pleasant deal alway honor pizza hut coupon', 'truli unbeliev good glad went back', 'fantast servic pleas atmospher', 'everyth gross', 'love place', 'great servic food', 'first bathroom locat dirti seat cover not replenish plain yucki', 'burger got gold standard burger kind disappoint', 'omg food delicioso', 'noth authent place', 'spaghetti noth special whatsoev', 'dish salmon best great', 'veget fresh sauc feel like authent thai', 'worth drive tucson', 'select probabl worst seen vega none', 'pretti good beer select', 'place like chipotl better', 'classi warm atmospher fun fresh appet succul steak basebal steak', 'star brick oven bread app', 'eaten multipl time time food delici', 'sat anoth ten minut final gave left', 'terribl', 'everyon treat equal special', 'take min pancak egg', 'delici', 'good side staff genuin pleasant enthusiast real treat', 'sadli gordon ramsey steak place shall sharpli avoid next trip vega', 'alway even wonder food delici', 'best fish ever life', 'bathroom next door nice', 'buffet small food offer bland', 'outstand littl restaur best food ever tast', 'pretti cool would say', 'definit turn doubt back unless someon els buy', 'server great job handl larg rowdi tabl', 'find wast food despic food', 'wife lobster bisqu soup lukewarm', 'would come back sushi crave vega', 'staff great ambianc great', 'deserv star', 'left stomach ach felt sick rest day', 'drop ball', 'dine space tini elegantli decor comfort', 'custom order way like usual eggplant green bean stir fri love', 'bean rice mediocr best', 'best taco town far', 'took back money got outta', 'interest part town place amaz', 'rude inconsider manag', 'staff not friendli wait time serv horribl one even say hi first minut', 'back', 'great dinner', 'servic outshin definit recommend halibut', 'food terribl', 'never ever go back told mani peopl happen', 'recommend unless car break front starv', 'come back everi time vega', 'place deserv one star food', 'disgrac', 'def come back bowl next time', 'want healthi authent ethic food tri place', 'continu come ladi night andddd date night highli recommend place anyon area', 'sever time past experi alway great', 'walk away stuf happi first vega buffet experi', 'servic excel price pretti reason consid vega locat insid crystal shop mall aria', 'summar food incred nay transcend noth bring joy quit like memori pneumat condiment dispens', 'probabl one peopl ever go ian not like', 'kid pizza alway hit lot great side dish option kiddo', 'servic perfect famili atmospher nice see', 'cook perfect servic impecc', 'one simpli disappoint', 'overal disappoint qualiti food bouchon', 'account know get screw', 'great place eat remind littl mom pop shop san francisco bay area', 'today first tast buldogi gourmet hot dog tell ever thought possibl', 'left frustrat', 'definit soon', 'food realli good got full petti fast', 'servic fantast', 'total wast time', 'know kind best ice tea', 'come hungri leav happi stuf', 'servic give star', 'assur disappoint', 'take littl bad servic food suck', 'gave tri eat crust teeth still sore', 'complet gross', 'realli enjoy eat', 'first time go think quickli becom regular', 'server nice even though look littl overwhelm need stay profession friendli end', 'dinner companion told everyth fresh nice textur tast', 'ground right next tabl larg smear step track everywher pile green bird poop', 'furthermor even find hour oper websit', 'tri like place time think done', 'mistak', 'complaint', 'serious good pizza expert connisseur topic', 'waiter jerk', 'strike want rush', 'nicest restaur owner ever come across', 'never come', 'love biscuit', 'servic quick friendli', 'order appet took minut pizza anoth minut', 'absolutley fantast', 'huge awkward lb piec cow th gristl fat', 'definit come back', 'like steiner dark feel like bar', 'wow spici delici', 'not familiar check', 'take busi dinner dollar elsewher', 'love go back', 'anyway fs restaur wonder breakfast lunch', 'noth special', 'day week differ deal delici', 'not mention combin pear almond bacon big winner', 'not back', 'sauc tasteless', 'food delici spici enough sure ask spicier prefer way', 'ribey steak cook perfectli great mesquit flavor', 'think go back anytim soon', 'food gooodd', 'far sushi connoisseur definit tell differ good food bad food certainli bad food', 'insult', 'last time lunch bad', 'chicken wing contain driest chicken meat ever eaten', 'food good enjoy everi mouth enjoy relax venu coupl small famili group etc', 'nargil think great', 'best tater tot southwest', 'love place', 'definit not worth paid', 'vanilla ice cream creami smooth profiterol choux pastri fresh enough', 'im az time new spot', 'manag worst', 'insid realli quit nice clean', 'food outstand price reason', 'think run back carli anytim soon food', 'due fact took minut acknowledg anoth minut get food kept forget thing', 'love margarita', 'first vega buffet not disappoint', 'good though', 'one note ventil could use upgrad', 'great pork sandwich', 'wast time', 'total letdown would much rather go camelback flower shop cartel coffe', 'third chees friend burger cold', 'enjoy pizza brunch', 'steak well trim also perfectli cook', 'group claim would handl us beauti', 'love', 'ask bill leav without eat bring either', 'place jewel la vega exactli hope find nearli ten year live', 'seafood limit boil shrimp crab leg crab leg definit not tast fresh', 'select food not best', 'delici absolut back', 'small famili restaur fine dine establish', 'toro tartar cavier extraordinari like thinli slice wagyu white truffl', 'dont think back long time', 'attach ga station rare good sign', 'awesom', 'back mani time soon', 'menu much good stuff could not decid', 'wors humili worker right front bunch horribl name call', 'conclus fill meal', 'daili special alway hit group', 'tragedi struck', 'pancak also realli good pretti larg', 'first crawfish experi delici', 'monster chicken fri steak egg time favorit', 'waitress sweet funni', 'also tast mom multi grain pumpkin pancak pecan butter amaz fluffi delici', 'rather eat airlin food serious', 'cant say enough good thing place', 'ambianc incred', 'waitress manag friendli', 'would not recommend place', 'overal impress noca', 'gyro basic lettuc', 'terribl servic', 'thoroughli disappoint', 'much pasta love homemad hand made pasta thin pizza', 'give tri happi', 'far best cheesecurd ever', 'reason price also', 'everyth perfect night', 'food good typic bar food', 'drive get', 'first glanc love bakeri cafe nice ambianc clean friendli staff', 'anyway not think go back', 'point finger item menu order disappoint', 'oh thing beauti restaur', 'gone go', 'greasi unhealthi meal', 'first time might last', 'burger amaz', 'similarli deliveri man not say word apolog food minut late', 'way expens', 'sure order dessert even need pack go tiramisu cannoli die', 'first time wait next', 'bartend also nice', 'everyth good tasti', 'place two thumb way', 'best place vega breakfast check sat sun', 'love authent mexican food want whole bunch interest yet delici meat choos need tri place', 'terribl manag', 'excel new restaur experienc frenchman', 'zero star would give zero star', 'great steak great side great wine amaz dessert', 'worst martini ever', 'steak shrimp opinion best entre gc', 'opportun today sampl amaz pizza', 'wait thirti minut seat although vacant tabl folk wait', 'yellowtail carpaccio melt mouth fresh', 'tri go back even empti', 'go eat potato found stranger hair', 'spici enough perfect actual', 'last night second time dine happi decid go back', 'not even hello right', 'dessert bit strang', 'boyfriend came first time recent trip vega could not pleas qualiti food servic', 'realli recommend place go wrong donut place', 'nice ambianc', 'would recommend save room', 'guess mayb went night disgrac', 'howev recent experi particular locat not good', 'know not like restaur someth', 'avoid establish', 'think restaur suffer not tri hard enough', 'tapa dish delici', 'heart place', 'salad bland vinegrett babi green heart palm', 'two felt disgust', 'good time', 'believ place great stop huge belli hanker sushi', 'gener portion great tast', 'never go back place never ever recommend place anyon', 'server went back forth sever time not even much help', 'food delici', 'hour serious', 'consid theft', 'eew locat need complet overhaul', 'recent wit poor qualiti manag toward guest well', 'wait wait wait', 'also came back check us regularli excel servic', 'server super nice check us mani time', 'pizza tast old super chewi not good way', 'swung give tri deepli disappoint', 'servic good compani better', 'staff also friendli effici', 'servic fan quick serv nice folk', 'boy sucker dri', 'rate', 'look authent thai food go els', 'steak recommend', 'pull car wait anoth minut acknowledg', 'great food great servic clean friendli set', 'assur back', 'hate thing much cheap qualiti black oliv', 'breakfast perpar great beauti present giant slice toast lightli dust powder sugar', 'kid play area nasti', 'great place fo take eat', 'waitress friendli happi accomod vegan veggi option', 'omg felt like never eaten thai food dish', 'extrem crumbi pretti tasteless', 'pale color instead nice char flavor', 'crouton also tast homemad extra plu', 'got home see driest damn wing ever', 'regular stop trip phoenix', 'realli enjoy crema caf expand even told friend best breakfast', 'not good money', 'miss wish one philadelphia', 'got sit fairli fast end wait minut place order anoth minut food arriv', 'also best chees crisp town', 'good valu great food great servic', 'ask satisfi meal', 'food good', 'awesom', 'want leav', 'made drive way north scottsdal not one bit disappoint', 'not eat', 'owner realli realli need quit soooooo cheap let wrap freak sandwich two paper not one', 'check place coupl year ago not impress', 'chicken got definit reheat ok wedg cold soggi', 'sorri not get food anytim soon', 'absolut must visit', 'cow tongu cheek taco amaz', 'friend not like bloodi mari', 'despit hard rate busi actual rare give star', 'realli want make experi good one', 'not return', 'chicken pho tast bland', 'disappoint', 'grill chicken tender yellow saffron season', 'drive thru mean not want wait around half hour food somehow end go make us wait wait', 'pretti awesom place', 'ambienc perfect', 'best luck rude non custom servic focus new manag', 'grandmoth make roast chicken better one', 'ask multipl time wine list time ignor went hostess got one', 'staff alway super friendli help especi cool bring two small boy babi', 'four star food guy blue shirt great vibe still let us eat', 'roast beef sandwich tast realli good', 'even drastic sick', 'high qualiti chicken chicken caesar salad', 'order burger rare came done', 'promptli greet seat', 'tri go lunch madhous', 'proven dead wrong sushi bar not qualiti great servic fast food impecc', 'wait hour seat not greatest mood', 'good joint', 'macaron insan good', 'not eat', 'waiter attent friendli inform', 'mayb cold would somewhat edibl', 'place lot promis fail deliv', 'bad experi', 'mistak', 'food averag best', 'great food', 'go back anytim soon', 'disappoint order big bay plater', 'great place relax awesom burger beer', 'perfect sit famili meal get togeth friend', 'not much flavor poorli construct', 'patio seat comfort', 'fri rice dri well', 'hand favorit italian restaur', 'scream legit book somethat also pretti rare vega', 'not fun experi', 'atmospher great love duo violinist play song request', 'person love hummu pita baklava falafel baba ganoush amaz eggplant', 'conveni sinc stay mgm', 'owner super friendli staff courteou', 'great', 'eclect select', 'sweet potato tot good onion ring perfect close', 'staff attent', 'chef gener time even came around twice take pictur', 'owner use work nobu place realli similar half price', 'googl mediocr imagin smashburg pop', 'dont go', 'promis disappoint', 'sushi lover avoid place mean', 'great doubl cheeseburg', 'awesom servic food', 'fantast neighborhood gem', 'wait go back', 'plantain worst ever tast', 'great place highli recommend', 'servic slow not attent', 'gave star give star', 'staff spend time talk', 'dessert panna cotta amaz', 'good food great atmospher', 'damn good steak', 'total brunch fail', 'price reason flavor spot sauc home made slaw not drench mayo', 'decor nice piano music soundtrack pleasant', 'steak amaz rge fillet relleno best seafood plate ever', 'good food good servic', 'absolut amaz', 'probabl back honest', 'definit back', 'sergeant pepper beef sandwich auju sauc excel sandwich well', 'hawaiian breez mango magic pineappl delight smoothi tri far good', 'went lunch servic slow', 'much say place walk expect amaz quickli disappoint', 'mortifi', 'needless say never back', 'anyway food definit not fill price pay expect', 'chip came drip greas mostli not edibl', 'realli impress strip steak', 'go sinc everi meal awesom', 'server nice attent serv staff', 'cashier friendli even brought food', 'work hospit industri paradis valley refrain recommend cibo longer', 'atmospher fun', 'would not recommend other', 'servic quick even go order like like', 'mean realli get famou fish chip terribl', 'said mouth belli still quit pleas', 'not thing', 'thumb', 'read pleas go', 'love grill pizza remind legit italian pizza', 'pro larg seat area nice bar area great simpl drink menu best brick oven pizza homemad dough', 'realli nice atmospher', 'tonight elk filet special suck', 'one bite hook', 'order old classic new dish go time sore disappoint everyth', 'cute quaint simpl honest', 'chicken delici season perfect fri outsid moist chicken insid', 'food great alway compliment chef', 'special thank dylan recommend order yummi tummi', 'awesom select beer', 'great food awesom servic', 'one nice thing ad gratuiti bill sinc parti larger expect tip', 'fli appl juic fli', 'han nan chicken also tasti', 'servic thought good', 'food bare lukewarm must sit wait server bring us', 'ryan bar definit one edinburgh establish revisit', 'nicest chines restaur', 'overal like food servic', 'also serv indian naan bread hummu spici pine nut sauc world', 'probabl never come back recommend', 'friend pasta also bad bare touch', 'tri airport experi tasti food speedi friendli servic', 'love decor chines calligraphi wall paper', 'never anyth complain', 'restaur clean famili restaur feel', 'way fri', 'not sure long stood long enough begin feel awkwardli place', 'open sandwich impress not good way', 'not back', 'warm feel servic felt like guest special treat', 'extens menu provid lot option breakfast', 'alway order vegetarian menu dinner wide array option choos', 'watch price inflat portion get smaller manag attitud grow rapidli', 'wonder lil tapa ambienc made feel warm fuzzi insid', 'got enjoy seafood salad fabul vinegrett', 'wonton thin not thick chewi almost melt mouth', 'level spici perfect spice whelm soup', 'sat right time server get go fantast', 'main thing enjoy crowd older crowd around mid', 'side town definit spot hit', 'wait minut get drink longer get arepa', 'great place eat', 'jalapeno bacon soooo good', 'servic poor that nice', 'food good servic good price good', 'place not clean food oh stale', 'chicken dish ok beef like shoe leather', 'servic beyond bad', 'happi', 'tast like dirt', 'one place phoenix would defin go back', 'block amaz', 'close hous low key non fanci afford price good food', 'hot sour egg flower soup absolut star', 'sashimi poor qualiti soggi tasteless', 'great time famili dinner sunday night', 'food not tasti not say real tradit hunan style', 'bother slow servic', 'flair bartend absolut amaz', 'frozen margarita way sugari tast', 'good order twice', 'nutshel restaraunt smell like combin dirti fish market sewer', 'girlfriend veal bad', 'unfortun not good', 'pretti satifi experi', 'join club get awesom offer via email', 'perfect someon like beer ice cold case even colder', 'bland flavorless good way describ bare tepid meat', 'chain fan beat place easili', 'nacho must', 'not come back', 'mani word say place everyth pretti well', 'staff super nice quick even crazi crowd downtown juri lawyer court staff', 'great atmospher friendli fast servic', 'receiv pita huge lot meat thumb', 'food arriv meh', 'pay hot dog fri look like came kid meal wienerschnitzel not idea good meal', 'classic main lobster roll fantast', 'brother law work mall ate day guess sick night', 'good go review place twice herea tribut place tribut event held last night', 'chip salsa realli good salsa fresh', 'place great', 'mediocr food', 'get insid impress place', 'super pissd', 'servic super friendli', 'sad littl veget overcook', 'place nice surpris', 'golden crispi delici', 'high hope place sinc burger cook charcoal grill unfortun tast fell flat way flat', 'could eat bruschetta day devin', 'not singl employe came see ok even need water refil final serv us food', 'lastli mozzarella stick best thing order', 'first time ever came amaz experi still tell peopl awesom duck', 'server neglig need made us feel unwelcom would not suggest place', 'servic terribl though', 'place overpr not consist boba realli overpr', 'pack', 'love place', 'say dessert yummi', 'food terribl', 'season fruit fresh white peach pure', 'kept get wors wors offici done', 'place honestli blown', 'definit would not eat', 'not wast money', 'love put food nice plastic contain oppos cram littl paper takeout box', 'cr pe delic thin moist', 'aw servic', 'ever go', 'food qualiti horribl', 'price think place would much rather gone', 'servic fair best', 'love sushi found kabuki price hip servic', 'favor stay away dish', 'poor servic', 'one tabl thought food averag worth wait', 'best servic food ever maria server good friendli made day', 'excel', 'paid bill not tip felt server terribl job', 'lunch great experi', 'never bland food surpris consid articl read focus much spice flavor', 'food way overpr portion fuck small', 'recent tri caballero back everi week sinc', 'buck head realli expect better food', 'food came good pace', 'ate twice last visit especi enjoy salmon salad', 'back', 'could not believ dirti oyster', 'place deserv star', 'would not recommend place', 'fact go round star awesom', 'disbelief dish qualifi worst version food ever tast', 'bad day not low toler rude custom servic peopl job nice polit wash dish otherwis', 'potato great biscuit', 'probabl would not go', 'flavor perfect amount heat', 'price reason servic great', 'wife hate meal coconut shrimp friend realli not enjoy meal either', 'fella got huevo ranchero look appeal', 'went happi hour great list wine', 'may say buffet pricey think get pay place get quit lot', 'probabl come back', 'worst food servic', 'place pretti good nice littl vibe restaur', 'talk great custom servic cours back', 'hot dish not hot cold dish close room temp watch staff prepar food bare hand glove everyth deep fri oil', 'love fri bean', 'alway pleasur deal', 'plethora salad sandwich everyth tri get seal approv', 'place awesom want someth light healthi summer', 'sushi strip place go', 'servic great even manag came help tabl', 'feel dine room colleg cook cours high class dine servic slow best', 'start review two star edit give one', 'worst sushi ever eat besid costco', 'excel restaur highlight great servic uniqu menu beauti set', 'boyfriend sat bar complet delight experi', 'weird vibe owner', 'hardli meat', 'better bagel groceri store', 'go place gyro', 'love owner chef one authent japanes cool dude', 'burger good pizza use amaz doughi flavorless', 'found six inch long piec wire salsa', 'servic terribl food mediocr', 'defin enjoy', 'order albondiga soup warm tast like tomato soup frozen meatbal', 'three differ occas ask well done medium well three time got bloodiest piec meat plate', 'two bite refus eat anymor', 'servic extrem slow', 'minut wait got tabl', 'serious killer hot chai latt', 'allergi warn menu waitress absolut clue meal not contain peanut', 'boyfriend tri mediterranean chicken salad fell love', 'rotat beer tap also highlight place', 'price bit concern mellow mushroom', 'worst thai ever', 'stay vega must get breakfast least', 'want first say server great perfect servic', 'pizza select good', 'strawberri tea good', 'highli unprofession rude loyal patron', 'overal great experi', 'spend money elsewher', 'regular toast bread equal satisfi occasion pat butter mmmm', 'buffet bellagio far anticip', 'drink weak peopl', 'order not correct', 'also feel like chip bought not made hous', 'disappoint dinner went elsewher dessert', 'chip sal amaz', 'return', 'new fav vega buffet spot', 'serious cannot believ owner mani unexperienc employe run around like chicken head cut', 'sad', 'felt insult disrespect could talk judg anoth human like', 'call steakhous properli cook steak understand', 'not impress concept food', 'thing crazi guacamol like pur ed', 'realli noth postino hope experi better', 'got food poison buffet', 'brought fresh batch fri think yay someth warm', 'hilari yummi christma eve dinner rememb biggest fail entir trip us', 'needless say go back anytim soon', 'place disgust', 'everi time eat see care teamwork profession degre', 'ri style calamari joke', 'howev much garlic fondu bare edibl', 'could bare stomach meal complain busi lunch', 'bad lost heart finish', 'also took forev bring us check ask', 'one make scene restaur get definit lost love one', 'disappoint experi', 'food par denni say not good', 'want wait mediocr food downright terribl servic place', 'waaaaaayyyyyyyyyi rate say', 'go back', 'place fairli clean food simpli worth', 'place lack style', 'sangria half glass wine full ridicul', 'bother come', 'meat pretti dri slice brisket pull pork', 'build seem pretti neat bathroom pretti trippi eat', 'equal aw', 'probabl not hurri go back', 'slow seat even reserv', 'not good stretch imagin', 'cashew cream sauc bland veget undercook', 'chipolt ranch dip saus tasteless seem thin water heat', 'bit sweet not realli spici enough lack flavor', 'disappoint', 'place horribl way overpr', 'mayb vegetarian fare twice thought averag best', 'busi know', 'tabl outsid also dirti lot time worker not alway friendli help menu', 'ambianc not feel like buffet set douchey indoor garden tea biscuit', 'con spotti servic', 'fri not hot neither burger', 'came back cold', 'food came disappoint ensu', 'real disappoint waiter', 'husband said rude not even apolog bad food anyth', 'reason eat would fill night bing drink get carb stomach', 'insult profound deuchebaggeri go outsid smoke break serv solidifi', 'someon order two taco think may part custom servic ask combo ala cart', 'quit disappoint although blame need place door', 'rave review wait eat disappoint', 'del taco pretti nasti avoid possibl', 'not hard make decent hamburg', 'like', 'hell go back', 'gotten much better servic pizza place next door servic receiv restaur', 'know big deal place back ya', 'immedi said want talk manag not want talk guy shot firebal behind bar', 'ambianc much better', 'unfortun set us disapppoint entre', 'food good', 'server suck wait correct server heimer suck', 'happen next pretti put', 'bad caus know famili own realli want like place', 'overpr get', 'vomit bathroom mid lunch', 'kept look time soon becom minut yet still food', 'place eat circumst would ever return top list', 'start tuna sashimi brownish color obvious fresh', 'food averag', 'sure beat nacho movi would expect littl bit come restaur', 'ha long bay bit flop', 'problem charg sandwich bigger subway sub offer better amount veget', 'shrimp unwrap live mile brushfir liter ice cold', 'lack flavor seem undercook dri', 'realli impress place close', 'would avoid place stay mirag', 'refri bean came meal dri crusti food bland', 'spend money time place els', 'ladi tabl next us found live green caterpillar salad', 'present food aw', 'tell disappoint', 'think food flavor textur lack', 'appetit instantli gone', 'overal not impress would not go back', 'whole experi underwhelm think go ninja sushi next time', 'wast enough life pour salt wound draw time took bring check']\n"
          ]
        }
      ]
    },
    {
      "cell_type": "code",
      "source": [
        "from sklearn.feature_extraction.text import CountVectorizer\n",
        "cv = CountVectorizer(stop_words='english')\n",
        "X = cv.fit_transform(corpus).toarray()\n",
        "Y = df.iloc[:, -1].values"
      ],
      "metadata": {
        "id": "uGjsIzOMiGcQ"
      },
      "execution_count": 28,
      "outputs": []
    },
    {
      "cell_type": "code",
      "source": [
        "from sklearn.model_selection import train_test_split\n",
        "X_train, X_test, Y_train, Y_test = train_test_split(X, Y, test_size = 0.20, random_state = 0)\n",
        "\n",
        "# Training the Naive Bayes model on the Training set\n",
        "from sklearn.naive_bayes import GaussianNB\n",
        "classifier = GaussianNB()\n",
        "classifier.fit(X_train, Y_train)\n",
        "\n",
        "# Predicting the Test set results\n",
        "Y_pred = classifier.predict(X_test)\n",
        "print(np.concatenate((Y_pred.reshape(len(Y_pred),1), Y_test.reshape(len(Y_test),1)),1))"
      ],
      "metadata": {
        "colab": {
          "base_uri": "https://localhost:8080/"
        },
        "id": "oCYDqETXiGZp",
        "outputId": "09d04849-edf5-4497-f34d-e1ec22571713"
      },
      "execution_count": 29,
      "outputs": [
        {
          "output_type": "stream",
          "name": "stdout",
          "text": [
            "[[1 0]\n",
            " [1 0]\n",
            " [1 0]\n",
            " [0 0]\n",
            " [0 0]\n",
            " [1 0]\n",
            " [1 1]\n",
            " [1 0]\n",
            " [1 0]\n",
            " [1 1]\n",
            " [1 1]\n",
            " [1 1]\n",
            " [1 0]\n",
            " [1 1]\n",
            " [1 1]\n",
            " [1 1]\n",
            " [0 0]\n",
            " [0 0]\n",
            " [0 0]\n",
            " [1 1]\n",
            " [0 0]\n",
            " [0 1]\n",
            " [1 1]\n",
            " [1 0]\n",
            " [1 0]\n",
            " [0 1]\n",
            " [1 1]\n",
            " [1 1]\n",
            " [1 1]\n",
            " [0 0]\n",
            " [1 1]\n",
            " [1 1]\n",
            " [1 1]\n",
            " [1 1]\n",
            " [1 1]\n",
            " [0 0]\n",
            " [1 0]\n",
            " [0 0]\n",
            " [1 0]\n",
            " [1 1]\n",
            " [1 1]\n",
            " [1 0]\n",
            " [1 1]\n",
            " [0 0]\n",
            " [0 0]\n",
            " [0 0]\n",
            " [1 0]\n",
            " [1 0]\n",
            " [0 0]\n",
            " [0 0]\n",
            " [1 1]\n",
            " [1 1]\n",
            " [1 1]\n",
            " [1 1]\n",
            " [1 0]\n",
            " [0 0]\n",
            " [1 1]\n",
            " [1 1]\n",
            " [0 0]\n",
            " [1 1]\n",
            " [1 0]\n",
            " [0 0]\n",
            " [1 0]\n",
            " [1 0]\n",
            " [1 1]\n",
            " [0 0]\n",
            " [1 1]\n",
            " [1 1]\n",
            " [1 1]\n",
            " [1 0]\n",
            " [1 1]\n",
            " [1 1]\n",
            " [1 1]\n",
            " [1 1]\n",
            " [0 0]\n",
            " [1 0]\n",
            " [1 1]\n",
            " [0 1]\n",
            " [0 0]\n",
            " [1 1]\n",
            " [0 0]\n",
            " [1 1]\n",
            " [1 1]\n",
            " [0 0]\n",
            " [1 1]\n",
            " [1 1]\n",
            " [1 0]\n",
            " [1 0]\n",
            " [1 1]\n",
            " [1 0]\n",
            " [0 0]\n",
            " [1 1]\n",
            " [0 0]\n",
            " [0 0]\n",
            " [1 0]\n",
            " [1 1]\n",
            " [1 0]\n",
            " [1 1]\n",
            " [1 1]\n",
            " [1 0]\n",
            " [0 1]\n",
            " [1 1]\n",
            " [1 1]\n",
            " [1 0]\n",
            " [0 1]\n",
            " [1 0]\n",
            " [1 1]\n",
            " [1 1]\n",
            " [0 0]\n",
            " [0 1]\n",
            " [0 1]\n",
            " [1 1]\n",
            " [0 0]\n",
            " [1 0]\n",
            " [1 1]\n",
            " [0 0]\n",
            " [1 1]\n",
            " [1 1]\n",
            " [1 1]\n",
            " [1 1]\n",
            " [1 1]\n",
            " [0 0]\n",
            " [1 1]\n",
            " [1 0]\n",
            " [0 0]\n",
            " [0 0]\n",
            " [1 1]\n",
            " [1 0]\n",
            " [0 0]\n",
            " [1 1]\n",
            " [1 0]\n",
            " [1 1]\n",
            " [0 0]\n",
            " [0 0]\n",
            " [1 1]\n",
            " [1 1]\n",
            " [1 1]\n",
            " [1 1]\n",
            " [1 1]\n",
            " [1 0]\n",
            " [0 1]\n",
            " [1 1]\n",
            " [1 1]\n",
            " [0 0]\n",
            " [1 0]\n",
            " [0 0]\n",
            " [1 0]\n",
            " [1 1]\n",
            " [1 1]\n",
            " [1 1]\n",
            " [1 1]\n",
            " [0 1]\n",
            " [1 1]\n",
            " [1 1]\n",
            " [1 0]\n",
            " [0 0]\n",
            " [1 1]\n",
            " [1 1]\n",
            " [1 1]\n",
            " [1 0]\n",
            " [1 0]\n",
            " [0 0]\n",
            " [0 1]\n",
            " [1 1]\n",
            " [0 0]\n",
            " [0 0]\n",
            " [1 0]\n",
            " [0 0]\n",
            " [0 0]\n",
            " [0 1]\n",
            " [0 0]\n",
            " [1 1]\n",
            " [1 1]\n",
            " [0 0]\n",
            " [0 0]\n",
            " [1 1]\n",
            " [0 0]\n",
            " [1 1]\n",
            " [0 0]\n",
            " [1 1]\n",
            " [1 1]\n",
            " [0 0]\n",
            " [0 0]\n",
            " [1 0]\n",
            " [0 0]\n",
            " [1 1]\n",
            " [0 0]\n",
            " [1 1]\n",
            " [0 0]\n",
            " [1 1]\n",
            " [1 1]\n",
            " [0 0]\n",
            " [1 0]\n",
            " [1 0]\n",
            " [1 1]\n",
            " [0 0]\n",
            " [1 1]\n",
            " [1 1]\n",
            " [1 0]\n",
            " [1 1]]\n"
          ]
        }
      ]
    },
    {
      "cell_type": "markdown",
      "source": [
        "# positive review"
      ],
      "metadata": {
        "id": "_7818GENOfdx"
      }
    },
    {
      "cell_type": "code",
      "source": [
        "new_review = 'I love this restaurant so much'\n",
        "new_review = re.sub('[^a-zA-Z]', ' ', new_review)\n",
        "new_review = new_review.lower()\n",
        "new_review = new_review.split()\n",
        "ps = PorterStemmer()\n",
        "all_stopwords = stopwords.words('english')\n",
        "all_stopwords.remove('not')\n",
        "new_review = [ps.stem(word) for word in new_review if not word in set(all_stopwords)]\n",
        "new_review = ' '.join(new_review)\n",
        "new_corpus = [new_review]\n",
        "new_X_test = cv.transform(new_corpus).toarray()\n",
        "new_y_pred = classifier.predict(new_X_test)\n",
        "print(new_y_pred)"
      ],
      "metadata": {
        "colab": {
          "base_uri": "https://localhost:8080/"
        },
        "id": "_hGpi5oaiGXB",
        "outputId": "09ce4218-3184-41c7-e2df-49f936dd6a5f"
      },
      "execution_count": 30,
      "outputs": [
        {
          "output_type": "stream",
          "name": "stdout",
          "text": [
            "[1]\n"
          ]
        }
      ]
    },
    {
      "cell_type": "markdown",
      "source": [
        "# negative review"
      ],
      "metadata": {
        "id": "RqvbGe52OqTk"
      }
    },
    {
      "cell_type": "code",
      "source": [
        "new_review = 'I hate this restaurant so much'\n",
        "new_review = re.sub('[^a-zA-Z]', ' ', new_review)\n",
        "new_review = new_review.lower()\n",
        "new_review = new_review.split()\n",
        "ps = PorterStemmer()\n",
        "all_stopwords = stopwords.words('english')\n",
        "all_stopwords.remove('not')\n",
        "new_review = [ps.stem(word) for word in new_review if not word in set(all_stopwords)]\n",
        "new_review = ' '.join(new_review)\n",
        "new_corpus = [new_review]\n",
        "new_X_test = cv.transform(new_corpus).toarray()\n",
        "new_y_pred = classifier.predict(new_X_test)\n",
        "print(new_y_pred)"
      ],
      "metadata": {
        "colab": {
          "base_uri": "https://localhost:8080/"
        },
        "id": "M_zxr-stiGUD",
        "outputId": "8073fc92-4edf-4b52-f408-ab13f43dd02a"
      },
      "execution_count": 31,
      "outputs": [
        {
          "output_type": "stream",
          "name": "stdout",
          "text": [
            "[0]\n"
          ]
        }
      ]
    },
    {
      "cell_type": "markdown",
      "source": [
        "# Creating SVC(Support vector classifier) Model"
      ],
      "metadata": {
        "id": "T7174jZ-SOU5"
      }
    },
    {
      "cell_type": "code",
      "source": [
        "from sklearn.svm import SVC\n",
        "classifier = SVC()\n",
        "classifier.fit(X_train, Y_train)\n",
        "y_pred = classifier.predict(X_test)\n",
        "from sklearn.metrics import confusion_matrix,classification_report\n",
        "from sklearn.metrics import accuracy_score\n",
        "print('Accuracy of NLP Support Vector Classifier Model is ', accuracy_score(Y_test, Y_pred))\n",
        "print('\\n','Confusion_Matrix:' '\\n', confusion_matrix(Y_test,Y_pred))\n",
        "print('\\n', '\\n','Report:' '\\n',classification_report(Y_test,Y_pred))"
      ],
      "metadata": {
        "colab": {
          "base_uri": "https://localhost:8080/"
        },
        "id": "uoiZwBaOiGRS",
        "outputId": "e6d76534-340e-4664-d629-0935f61612e2"
      },
      "execution_count": 32,
      "outputs": [
        {
          "output_type": "stream",
          "name": "stdout",
          "text": [
            "Accuracy of NLP Support Vector Classifier Model is  0.73\n",
            "\n",
            " Confusion_Matrix:\n",
            " [[54 43]\n",
            " [11 92]]\n",
            "\n",
            " \n",
            " Report:\n",
            "               precision    recall  f1-score   support\n",
            "\n",
            "           0       0.83      0.56      0.67        97\n",
            "           1       0.68      0.89      0.77       103\n",
            "\n",
            "    accuracy                           0.73       200\n",
            "   macro avg       0.76      0.72      0.72       200\n",
            "weighted avg       0.75      0.73      0.72       200\n",
            "\n"
          ]
        }
      ]
    },
    {
      "cell_type": "markdown",
      "source": [
        "# Creating NLP pipeline Model"
      ],
      "metadata": {
        "id": "pATYkB8ZUbyv"
      }
    },
    {
      "cell_type": "code",
      "source": [
        "from sklearn.pipeline import make_pipeline\n",
        "text_model=make_pipeline(CountVectorizer(),SVC())\n"
      ],
      "metadata": {
        "id": "zPTc73xGSfAy"
      },
      "execution_count": 33,
      "outputs": []
    },
    {
      "cell_type": "code",
      "source": [
        "text_model.fit(x_train,y_train)"
      ],
      "metadata": {
        "colab": {
          "base_uri": "https://localhost:8080/",
          "height": 125
        },
        "id": "5CMpiwdITs_T",
        "outputId": "a5240ed7-d1d0-474f-95c4-c1af6b487082"
      },
      "execution_count": 34,
      "outputs": [
        {
          "output_type": "execute_result",
          "data": {
            "text/plain": [
              "Pipeline(steps=[('countvectorizer', CountVectorizer()), ('svc', SVC())])"
            ],
            "text/html": [
              "<style>#sk-container-id-2 {color: black;background-color: white;}#sk-container-id-2 pre{padding: 0;}#sk-container-id-2 div.sk-toggleable {background-color: white;}#sk-container-id-2 label.sk-toggleable__label {cursor: pointer;display: block;width: 100%;margin-bottom: 0;padding: 0.3em;box-sizing: border-box;text-align: center;}#sk-container-id-2 label.sk-toggleable__label-arrow:before {content: \"▸\";float: left;margin-right: 0.25em;color: #696969;}#sk-container-id-2 label.sk-toggleable__label-arrow:hover:before {color: black;}#sk-container-id-2 div.sk-estimator:hover label.sk-toggleable__label-arrow:before {color: black;}#sk-container-id-2 div.sk-toggleable__content {max-height: 0;max-width: 0;overflow: hidden;text-align: left;background-color: #f0f8ff;}#sk-container-id-2 div.sk-toggleable__content pre {margin: 0.2em;color: black;border-radius: 0.25em;background-color: #f0f8ff;}#sk-container-id-2 input.sk-toggleable__control:checked~div.sk-toggleable__content {max-height: 200px;max-width: 100%;overflow: auto;}#sk-container-id-2 input.sk-toggleable__control:checked~label.sk-toggleable__label-arrow:before {content: \"▾\";}#sk-container-id-2 div.sk-estimator input.sk-toggleable__control:checked~label.sk-toggleable__label {background-color: #d4ebff;}#sk-container-id-2 div.sk-label input.sk-toggleable__control:checked~label.sk-toggleable__label {background-color: #d4ebff;}#sk-container-id-2 input.sk-hidden--visually {border: 0;clip: rect(1px 1px 1px 1px);clip: rect(1px, 1px, 1px, 1px);height: 1px;margin: -1px;overflow: hidden;padding: 0;position: absolute;width: 1px;}#sk-container-id-2 div.sk-estimator {font-family: monospace;background-color: #f0f8ff;border: 1px dotted black;border-radius: 0.25em;box-sizing: border-box;margin-bottom: 0.5em;}#sk-container-id-2 div.sk-estimator:hover {background-color: #d4ebff;}#sk-container-id-2 div.sk-parallel-item::after {content: \"\";width: 100%;border-bottom: 1px solid gray;flex-grow: 1;}#sk-container-id-2 div.sk-label:hover label.sk-toggleable__label {background-color: #d4ebff;}#sk-container-id-2 div.sk-serial::before {content: \"\";position: absolute;border-left: 1px solid gray;box-sizing: border-box;top: 0;bottom: 0;left: 50%;z-index: 0;}#sk-container-id-2 div.sk-serial {display: flex;flex-direction: column;align-items: center;background-color: white;padding-right: 0.2em;padding-left: 0.2em;position: relative;}#sk-container-id-2 div.sk-item {position: relative;z-index: 1;}#sk-container-id-2 div.sk-parallel {display: flex;align-items: stretch;justify-content: center;background-color: white;position: relative;}#sk-container-id-2 div.sk-item::before, #sk-container-id-2 div.sk-parallel-item::before {content: \"\";position: absolute;border-left: 1px solid gray;box-sizing: border-box;top: 0;bottom: 0;left: 50%;z-index: -1;}#sk-container-id-2 div.sk-parallel-item {display: flex;flex-direction: column;z-index: 1;position: relative;background-color: white;}#sk-container-id-2 div.sk-parallel-item:first-child::after {align-self: flex-end;width: 50%;}#sk-container-id-2 div.sk-parallel-item:last-child::after {align-self: flex-start;width: 50%;}#sk-container-id-2 div.sk-parallel-item:only-child::after {width: 0;}#sk-container-id-2 div.sk-dashed-wrapped {border: 1px dashed gray;margin: 0 0.4em 0.5em 0.4em;box-sizing: border-box;padding-bottom: 0.4em;background-color: white;}#sk-container-id-2 div.sk-label label {font-family: monospace;font-weight: bold;display: inline-block;line-height: 1.2em;}#sk-container-id-2 div.sk-label-container {text-align: center;}#sk-container-id-2 div.sk-container {/* jupyter's `normalize.less` sets `[hidden] { display: none; }` but bootstrap.min.css set `[hidden] { display: none !important; }` so we also need the `!important` here to be able to override the default hidden behavior on the sphinx rendered scikit-learn.org. See: https://github.com/scikit-learn/scikit-learn/issues/21755 */display: inline-block !important;position: relative;}#sk-container-id-2 div.sk-text-repr-fallback {display: none;}</style><div id=\"sk-container-id-2\" class=\"sk-top-container\"><div class=\"sk-text-repr-fallback\"><pre>Pipeline(steps=[(&#x27;countvectorizer&#x27;, CountVectorizer()), (&#x27;svc&#x27;, SVC())])</pre><b>In a Jupyter environment, please rerun this cell to show the HTML representation or trust the notebook. <br />On GitHub, the HTML representation is unable to render, please try loading this page with nbviewer.org.</b></div><div class=\"sk-container\" hidden><div class=\"sk-item sk-dashed-wrapped\"><div class=\"sk-label-container\"><div class=\"sk-label sk-toggleable\"><input class=\"sk-toggleable__control sk-hidden--visually\" id=\"sk-estimator-id-2\" type=\"checkbox\" ><label for=\"sk-estimator-id-2\" class=\"sk-toggleable__label sk-toggleable__label-arrow\">Pipeline</label><div class=\"sk-toggleable__content\"><pre>Pipeline(steps=[(&#x27;countvectorizer&#x27;, CountVectorizer()), (&#x27;svc&#x27;, SVC())])</pre></div></div></div><div class=\"sk-serial\"><div class=\"sk-item\"><div class=\"sk-estimator sk-toggleable\"><input class=\"sk-toggleable__control sk-hidden--visually\" id=\"sk-estimator-id-3\" type=\"checkbox\" ><label for=\"sk-estimator-id-3\" class=\"sk-toggleable__label sk-toggleable__label-arrow\">CountVectorizer</label><div class=\"sk-toggleable__content\"><pre>CountVectorizer()</pre></div></div></div><div class=\"sk-item\"><div class=\"sk-estimator sk-toggleable\"><input class=\"sk-toggleable__control sk-hidden--visually\" id=\"sk-estimator-id-4\" type=\"checkbox\" ><label for=\"sk-estimator-id-4\" class=\"sk-toggleable__label sk-toggleable__label-arrow\">SVC</label><div class=\"sk-toggleable__content\"><pre>SVC()</pre></div></div></div></div></div></div></div>"
            ]
          },
          "metadata": {},
          "execution_count": 34
        }
      ]
    },
    {
      "cell_type": "code",
      "source": [
        "y_pred=text_model.predict(x_test)"
      ],
      "metadata": {
        "id": "LKqGb8dRioni"
      },
      "execution_count": 35,
      "outputs": []
    },
    {
      "cell_type": "code",
      "source": [
        "y_pred"
      ],
      "metadata": {
        "colab": {
          "base_uri": "https://localhost:8080/"
        },
        "id": "S34TNetWiohJ",
        "outputId": "882dff4d-2f52-4ff4-983e-59b2e97abb60"
      },
      "execution_count": 36,
      "outputs": [
        {
          "output_type": "execute_result",
          "data": {
            "text/plain": [
              "array([0, 0, 0, 0, 1, 1, 1, 0, 0, 1, 1, 1, 0, 1, 1, 1, 0, 0, 0, 1, 0, 1,\n",
              "       1, 0, 0, 1, 1, 1, 1, 0, 1, 0, 0, 0, 0, 0, 0, 1, 0, 1, 1, 0, 1, 0,\n",
              "       0, 1, 0, 1, 0, 0, 1, 1, 1, 1, 0, 0, 0, 1, 0, 1, 1, 0, 1, 1, 0, 1,\n",
              "       1, 0, 1, 0, 1, 1, 1, 0, 0, 0, 0, 1, 0, 1, 0, 1, 1, 0, 1, 1, 0, 0,\n",
              "       1, 0, 0, 1, 0, 0, 0, 1, 1, 0, 1, 1, 1, 1, 1, 0, 1, 1, 1, 1, 0, 0,\n",
              "       0, 1, 0, 1, 1, 0, 1, 1, 1, 1, 0, 0, 1, 0, 0, 0, 1, 0, 0, 0, 0, 1,\n",
              "       0, 0, 1, 1, 1, 1, 1, 0, 1, 1, 1, 0, 0, 0, 0, 0, 0, 1, 1, 1, 1, 1,\n",
              "       0, 0, 1, 0, 1, 0, 0, 0, 1, 1, 0, 0, 1, 0, 0, 0, 0, 0, 1, 0, 0, 0,\n",
              "       0, 1, 0, 0, 1, 0, 0, 1, 1, 0, 1, 1, 0, 1, 1, 0, 0, 1, 1, 0, 1, 1,\n",
              "       0, 0, 1, 1, 1, 0, 1, 1, 1, 0, 0, 0, 1, 1, 0, 1, 1, 0, 1, 1, 1, 1,\n",
              "       0, 0, 0, 0, 0, 1, 0, 0, 0, 0, 0, 1, 1, 0, 1, 0, 0, 1, 0, 0, 1, 1,\n",
              "       1, 1, 0, 1, 1, 0, 0, 0])"
            ]
          },
          "metadata": {},
          "execution_count": 36
        }
      ]
    },
    {
      "cell_type": "markdown",
      "source": [
        "# Creating a Naive Bayes Model"
      ],
      "metadata": {
        "id": "qAB3NjmsSAtd"
      }
    },
    {
      "cell_type": "code",
      "source": [
        "from sklearn.metrics import confusion_matrix,classification_report\n",
        "from sklearn.metrics import accuracy_score\n",
        "print('Accuracy of NLP NB Model is ', accuracy_score(Y_test, Y_pred))\n",
        "print('\\n','Confusion_Matrix:' '\\n', confusion_matrix(Y_test,Y_pred))\n",
        "print('\\n', '\\n','Report:' '\\n',classification_report(Y_test,Y_pred))"
      ],
      "metadata": {
        "colab": {
          "base_uri": "https://localhost:8080/"
        },
        "id": "LIYJydp2RQLW",
        "outputId": "36dc1161-53c1-4b99-fe79-79cb3a8b69f4"
      },
      "execution_count": 37,
      "outputs": [
        {
          "output_type": "stream",
          "name": "stdout",
          "text": [
            "Accuracy of NLP NB Model is  0.73\n",
            "\n",
            " Confusion_Matrix:\n",
            " [[54 43]\n",
            " [11 92]]\n",
            "\n",
            " \n",
            " Report:\n",
            "               precision    recall  f1-score   support\n",
            "\n",
            "           0       0.83      0.56      0.67        97\n",
            "           1       0.68      0.89      0.77       103\n",
            "\n",
            "    accuracy                           0.73       200\n",
            "   macro avg       0.76      0.72      0.72       200\n",
            "weighted avg       0.75      0.73      0.72       200\n",
            "\n"
          ]
        }
      ]
    },
    {
      "cell_type": "markdown",
      "source": [
        "# Creating NLP pipeline for the multinomialNB and CountVectorizer"
      ],
      "metadata": {
        "id": "Np07ncUTk8Xk"
      }
    },
    {
      "cell_type": "code",
      "source": [
        "from sklearn.feature_extraction.text import  TfidfTransformer\n",
        "from sklearn.pipeline import Pipeline\n",
        "from sklearn.feature_extraction.text import CountVectorizer\n",
        "from sklearn.naive_bayes import MultinomialNB\n",
        "pipeline = Pipeline([\n",
        "    ('bow', CountVectorizer()),  # strings to token integer counts\n",
        "    ('tfidf', TfidfTransformer()),  # integer counts to weighted TF-IDF scores\n",
        "    ('classifier', MultinomialNB()),  # train on TF-IDF vectors w/ Naive Bayes classifier\n",
        "])"
      ],
      "metadata": {
        "id": "shxD2OYClRWU"
      },
      "execution_count": 38,
      "outputs": []
    },
    {
      "cell_type": "code",
      "source": [
        "X = df['Review']\n",
        "Y = df['Liked']\n",
        "X_train, X_test, Y_train, Y_test = train_test_split(X, Y,test_size=0.2,random_state=0)\n",
        "# May take some time\n",
        "pipeline.fit(X_train,Y_train)\n",
        "predictions = pipeline.predict(X_test)\n",
        "from sklearn.metrics import confusion_matrix,classification_report\n",
        "from sklearn.metrics import accuracy_score\n",
        "print('Accuracy of NLP Pipeline Model is ', accuracy_score(Y_test, predictions))\n",
        "print('\\n','Confusion Matrix:' '\\n', confusion_matrix(Y_test,predictions))\n",
        "print('\\n', '\\n','Classification Report:' '\\n',classification_report(Y_test,predictions))"
      ],
      "metadata": {
        "colab": {
          "base_uri": "https://localhost:8080/"
        },
        "id": "_nuHEjdVkk1d",
        "outputId": "8507190f-0303-4ff1-a5a2-0cf5c776b43a"
      },
      "execution_count": 39,
      "outputs": [
        {
          "output_type": "stream",
          "name": "stdout",
          "text": [
            "Accuracy of NLP Pipeline Model is  0.79\n",
            "\n",
            " Confusion Matrix:\n",
            " [[77 20]\n",
            " [22 81]]\n",
            "\n",
            " \n",
            " Classification Report:\n",
            "               precision    recall  f1-score   support\n",
            "\n",
            "           0       0.78      0.79      0.79        97\n",
            "           1       0.80      0.79      0.79       103\n",
            "\n",
            "    accuracy                           0.79       200\n",
            "   macro avg       0.79      0.79      0.79       200\n",
            "weighted avg       0.79      0.79      0.79       200\n",
            "\n"
          ]
        }
      ]
    },
    {
      "cell_type": "code",
      "source": [
        "from sklearn.pipeline import Pipeline\n",
        "from sklearn.svm import SVC\n",
        "from sklearn.feature_extraction.text import  TfidfTransformer\n",
        "pipeline_SVC = Pipeline([\n",
        "    ('bow', CountVectorizer()),  # strings to token integer counts\n",
        "    ('tfidf', TfidfTransformer()),  # integer counts to weighted TF-IDF scores\n",
        "    ('classifier', SVC()),  # train on TF-IDF vectors w/ Support Vector classifier\n",
        "])\n",
        "pipeline_SVC.fit(X_train,Y_train)\n",
        "predictions_SVC = pipeline_SVC.predict(X_test)\n",
        "from sklearn.metrics import confusion_matrix,classification_report\n",
        "from sklearn.metrics import accuracy_score\n",
        "print('Accuracy of NLP Pipeline Model with SVC is ', accuracy_score(Y_test, predictions_SVC))\n",
        "print('\\n','Confusion Matrix:' '\\n', confusion_matrix(Y_test,predictions_SVC))\n",
        "print('\\n', '\\n','Classification Report:' '\\n',classification_report(Y_test,predictions_SVC))"
      ],
      "metadata": {
        "colab": {
          "base_uri": "https://localhost:8080/"
        },
        "id": "1UZq8zLTjqf3",
        "outputId": "841ceef2-afb1-4f6a-c96d-6c611337d127"
      },
      "execution_count": 40,
      "outputs": [
        {
          "output_type": "stream",
          "name": "stdout",
          "text": [
            "Accuracy of NLP Pipeline Model with SVC is  0.81\n",
            "\n",
            " Confusion Matrix:\n",
            " [[82 15]\n",
            " [23 80]]\n",
            "\n",
            " \n",
            " Classification Report:\n",
            "               precision    recall  f1-score   support\n",
            "\n",
            "           0       0.78      0.85      0.81        97\n",
            "           1       0.84      0.78      0.81       103\n",
            "\n",
            "    accuracy                           0.81       200\n",
            "   macro avg       0.81      0.81      0.81       200\n",
            "weighted avg       0.81      0.81      0.81       200\n",
            "\n"
          ]
        }
      ]
    },
    {
      "cell_type": "markdown",
      "source": [
        "# Saving the Model"
      ],
      "metadata": {
        "id": "7fKBAdnRVOb9"
      }
    },
    {
      "cell_type": "code",
      "source": [
        "import joblib\n",
        "joblib.dump(text_model,'Project')"
      ],
      "metadata": {
        "colab": {
          "base_uri": "https://localhost:8080/"
        },
        "id": "KIFWgDjfVOBB",
        "outputId": "7296cb12-8b14-481e-d434-7dbe0f1942f2"
      },
      "execution_count": 41,
      "outputs": [
        {
          "output_type": "execute_result",
          "data": {
            "text/plain": [
              "['Project']"
            ]
          },
          "metadata": {},
          "execution_count": 41
        }
      ]
    },
    {
      "cell_type": "markdown",
      "source": [
        "# Loading the Model"
      ],
      "metadata": {
        "id": "M6LH6SW6m5om"
      }
    },
    {
      "cell_type": "code",
      "source": [],
      "metadata": {
        "id": "GUW2FgUwQTpm"
      },
      "execution_count": 41,
      "outputs": []
    },
    {
      "cell_type": "code",
      "source": [
        "import joblib\n",
        "text_model=joblib.load('Project')"
      ],
      "metadata": {
        "id": "meJkDPliW5lL"
      },
      "execution_count": 42,
      "outputs": []
    },
    {
      "cell_type": "code",
      "source": [
        "text_model.predict(['hello!!Love Your Food'])"
      ],
      "metadata": {
        "colab": {
          "base_uri": "https://localhost:8080/"
        },
        "id": "hlxJ4P8GXLH1",
        "outputId": "c7c9e26f-86f6-46ab-86c9-73558d4f70cb"
      },
      "execution_count": 43,
      "outputs": [
        {
          "output_type": "execute_result",
          "data": {
            "text/plain": [
              "array([1])"
            ]
          },
          "metadata": {},
          "execution_count": 43
        }
      ]
    },
    {
      "cell_type": "code",
      "source": [
        "text_model.predict([\"omg!!it was too spice and i asked you don't add too much \"])"
      ],
      "metadata": {
        "colab": {
          "base_uri": "https://localhost:8080/"
        },
        "id": "v2pvkDqLi3W6",
        "outputId": "94eab340-37ec-4dbe-d5d0-030c220f775b"
      },
      "execution_count": 44,
      "outputs": [
        {
          "output_type": "execute_result",
          "data": {
            "text/plain": [
              "array([0])"
            ]
          },
          "metadata": {},
          "execution_count": 44
        }
      ]
    },
    {
      "cell_type": "markdown",
      "source": [
        "# Creating Streamlit Webapp"
      ],
      "metadata": {
        "id": "lv7XcvkNvCqL"
      }
    },
    {
      "cell_type": "code",
      "source": [
        "import pickle\n",
        "pickle_out = open(\"classifier.pkl\", mode = \"wb\")\n",
        "pickle.dump(text_model, pickle_out)\n",
        "pickle_out.close()"
      ],
      "metadata": {
        "id": "37cuq_4pz3KX"
      },
      "execution_count": 45,
      "outputs": []
    },
    {
      "cell_type": "code",
      "source": [
        "!pip install streamlit\n",
        "!pip install pyngrok\n",
        "!ngrok authtoken 27bxZx82lYjGlSpMaY7nvx9IGiX_4A2SyWU1MCRcwNFNsqoLy"
      ],
      "metadata": {
        "colab": {
          "base_uri": "https://localhost:8080/"
        },
        "id": "Hvcr7afmvJ9Y",
        "outputId": "a13daf96-f167-411d-b722-f0378bf5287a"
      },
      "execution_count": 46,
      "outputs": [
        {
          "output_type": "stream",
          "name": "stdout",
          "text": [
            "Collecting streamlit\n",
            "  Downloading streamlit-1.31.0-py2.py3-none-any.whl (8.4 MB)\n",
            "\u001b[2K     \u001b[90m━━━━━━━━━━━━━━━━━━━━━━━━━━━━━━━━━━━━━━━━\u001b[0m \u001b[32m8.4/8.4 MB\u001b[0m \u001b[31m27.3 MB/s\u001b[0m eta \u001b[36m0:00:00\u001b[0m\n",
            "\u001b[?25hRequirement already satisfied: altair<6,>=4.0 in /usr/local/lib/python3.10/dist-packages (from streamlit) (4.2.2)\n",
            "Requirement already satisfied: blinker<2,>=1.0.0 in /usr/lib/python3/dist-packages (from streamlit) (1.4)\n",
            "Requirement already satisfied: cachetools<6,>=4.0 in /usr/local/lib/python3.10/dist-packages (from streamlit) (5.3.2)\n",
            "Requirement already satisfied: click<9,>=7.0 in /usr/local/lib/python3.10/dist-packages (from streamlit) (8.1.7)\n",
            "Requirement already satisfied: importlib-metadata<8,>=1.4 in /usr/local/lib/python3.10/dist-packages (from streamlit) (7.0.1)\n",
            "Requirement already satisfied: numpy<2,>=1.19.3 in /usr/local/lib/python3.10/dist-packages (from streamlit) (1.23.5)\n",
            "Requirement already satisfied: packaging<24,>=16.8 in /usr/local/lib/python3.10/dist-packages (from streamlit) (23.2)\n",
            "Requirement already satisfied: pandas<3,>=1.3.0 in /usr/local/lib/python3.10/dist-packages (from streamlit) (1.5.3)\n",
            "Requirement already satisfied: pillow<11,>=7.1.0 in /usr/local/lib/python3.10/dist-packages (from streamlit) (9.4.0)\n",
            "Requirement already satisfied: protobuf<5,>=3.20 in /usr/local/lib/python3.10/dist-packages (from streamlit) (3.20.3)\n",
            "Requirement already satisfied: pyarrow>=7.0 in /usr/local/lib/python3.10/dist-packages (from streamlit) (10.0.1)\n",
            "Requirement already satisfied: python-dateutil<3,>=2.7.3 in /usr/local/lib/python3.10/dist-packages (from streamlit) (2.8.2)\n",
            "Requirement already satisfied: requests<3,>=2.27 in /usr/local/lib/python3.10/dist-packages (from streamlit) (2.31.0)\n",
            "Requirement already satisfied: rich<14,>=10.14.0 in /usr/local/lib/python3.10/dist-packages (from streamlit) (13.7.0)\n",
            "Requirement already satisfied: tenacity<9,>=8.1.0 in /usr/local/lib/python3.10/dist-packages (from streamlit) (8.2.3)\n",
            "Requirement already satisfied: toml<2,>=0.10.1 in /usr/local/lib/python3.10/dist-packages (from streamlit) (0.10.2)\n",
            "Requirement already satisfied: typing-extensions<5,>=4.3.0 in /usr/local/lib/python3.10/dist-packages (from streamlit) (4.9.0)\n",
            "Requirement already satisfied: tzlocal<6,>=1.1 in /usr/local/lib/python3.10/dist-packages (from streamlit) (5.2)\n",
            "Collecting validators<1,>=0.2 (from streamlit)\n",
            "  Downloading validators-0.22.0-py3-none-any.whl (26 kB)\n",
            "Collecting gitpython!=3.1.19,<4,>=3.0.7 (from streamlit)\n",
            "  Downloading GitPython-3.1.41-py3-none-any.whl (196 kB)\n",
            "\u001b[2K     \u001b[90m━━━━━━━━━━━━━━━━━━━━━━━━━━━━━━━━━━━━━━━━\u001b[0m \u001b[32m196.4/196.4 kB\u001b[0m \u001b[31m13.4 MB/s\u001b[0m eta \u001b[36m0:00:00\u001b[0m\n",
            "\u001b[?25hCollecting pydeck<1,>=0.8.0b4 (from streamlit)\n",
            "  Downloading pydeck-0.8.1b0-py2.py3-none-any.whl (4.8 MB)\n",
            "\u001b[2K     \u001b[90m━━━━━━━━━━━━━━━━━━━━━━━━━━━━━━━━━━━━━━━━\u001b[0m \u001b[32m4.8/4.8 MB\u001b[0m \u001b[31m56.4 MB/s\u001b[0m eta \u001b[36m0:00:00\u001b[0m\n",
            "\u001b[?25hRequirement already satisfied: tornado<7,>=6.0.3 in /usr/local/lib/python3.10/dist-packages (from streamlit) (6.3.2)\n",
            "Collecting watchdog>=2.1.5 (from streamlit)\n",
            "  Downloading watchdog-3.0.0-py3-none-manylinux2014_x86_64.whl (82 kB)\n",
            "\u001b[2K     \u001b[90m━━━━━━━━━━━━━━━━━━━━━━━━━━━━━━━━━━━━━━━━\u001b[0m \u001b[32m82.1/82.1 kB\u001b[0m \u001b[31m8.9 MB/s\u001b[0m eta \u001b[36m0:00:00\u001b[0m\n",
            "\u001b[?25hRequirement already satisfied: entrypoints in /usr/local/lib/python3.10/dist-packages (from altair<6,>=4.0->streamlit) (0.4)\n",
            "Requirement already satisfied: jinja2 in /usr/local/lib/python3.10/dist-packages (from altair<6,>=4.0->streamlit) (3.1.3)\n",
            "Requirement already satisfied: jsonschema>=3.0 in /usr/local/lib/python3.10/dist-packages (from altair<6,>=4.0->streamlit) (4.19.2)\n",
            "Requirement already satisfied: toolz in /usr/local/lib/python3.10/dist-packages (from altair<6,>=4.0->streamlit) (0.12.1)\n",
            "Collecting gitdb<5,>=4.0.1 (from gitpython!=3.1.19,<4,>=3.0.7->streamlit)\n",
            "  Downloading gitdb-4.0.11-py3-none-any.whl (62 kB)\n",
            "\u001b[2K     \u001b[90m━━━━━━━━━━━━━━━━━━━━━━━━━━━━━━━━━━━━━━━━\u001b[0m \u001b[32m62.7/62.7 kB\u001b[0m \u001b[31m7.5 MB/s\u001b[0m eta \u001b[36m0:00:00\u001b[0m\n",
            "\u001b[?25hRequirement already satisfied: zipp>=0.5 in /usr/local/lib/python3.10/dist-packages (from importlib-metadata<8,>=1.4->streamlit) (3.17.0)\n",
            "Requirement already satisfied: pytz>=2020.1 in /usr/local/lib/python3.10/dist-packages (from pandas<3,>=1.3.0->streamlit) (2023.4)\n",
            "Requirement already satisfied: six>=1.5 in /usr/local/lib/python3.10/dist-packages (from python-dateutil<3,>=2.7.3->streamlit) (1.16.0)\n",
            "Requirement already satisfied: charset-normalizer<4,>=2 in /usr/local/lib/python3.10/dist-packages (from requests<3,>=2.27->streamlit) (3.3.2)\n",
            "Requirement already satisfied: idna<4,>=2.5 in /usr/local/lib/python3.10/dist-packages (from requests<3,>=2.27->streamlit) (3.6)\n",
            "Requirement already satisfied: urllib3<3,>=1.21.1 in /usr/local/lib/python3.10/dist-packages (from requests<3,>=2.27->streamlit) (2.0.7)\n",
            "Requirement already satisfied: certifi>=2017.4.17 in /usr/local/lib/python3.10/dist-packages (from requests<3,>=2.27->streamlit) (2024.2.2)\n",
            "Requirement already satisfied: markdown-it-py>=2.2.0 in /usr/local/lib/python3.10/dist-packages (from rich<14,>=10.14.0->streamlit) (3.0.0)\n",
            "Requirement already satisfied: pygments<3.0.0,>=2.13.0 in /usr/local/lib/python3.10/dist-packages (from rich<14,>=10.14.0->streamlit) (2.16.1)\n",
            "Collecting smmap<6,>=3.0.1 (from gitdb<5,>=4.0.1->gitpython!=3.1.19,<4,>=3.0.7->streamlit)\n",
            "  Downloading smmap-5.0.1-py3-none-any.whl (24 kB)\n",
            "Requirement already satisfied: MarkupSafe>=2.0 in /usr/local/lib/python3.10/dist-packages (from jinja2->altair<6,>=4.0->streamlit) (2.1.5)\n",
            "Requirement already satisfied: attrs>=22.2.0 in /usr/local/lib/python3.10/dist-packages (from jsonschema>=3.0->altair<6,>=4.0->streamlit) (23.2.0)\n",
            "Requirement already satisfied: jsonschema-specifications>=2023.03.6 in /usr/local/lib/python3.10/dist-packages (from jsonschema>=3.0->altair<6,>=4.0->streamlit) (2023.12.1)\n",
            "Requirement already satisfied: referencing>=0.28.4 in /usr/local/lib/python3.10/dist-packages (from jsonschema>=3.0->altair<6,>=4.0->streamlit) (0.33.0)\n",
            "Requirement already satisfied: rpds-py>=0.7.1 in /usr/local/lib/python3.10/dist-packages (from jsonschema>=3.0->altair<6,>=4.0->streamlit) (0.17.1)\n",
            "Requirement already satisfied: mdurl~=0.1 in /usr/local/lib/python3.10/dist-packages (from markdown-it-py>=2.2.0->rich<14,>=10.14.0->streamlit) (0.1.2)\n",
            "Installing collected packages: watchdog, validators, smmap, pydeck, gitdb, gitpython, streamlit\n",
            "Successfully installed gitdb-4.0.11 gitpython-3.1.41 pydeck-0.8.1b0 smmap-5.0.1 streamlit-1.31.0 validators-0.22.0 watchdog-3.0.0\n",
            "Collecting pyngrok\n",
            "  Downloading pyngrok-7.1.0-py3-none-any.whl (21 kB)\n",
            "Requirement already satisfied: PyYAML in /usr/local/lib/python3.10/dist-packages (from pyngrok) (6.0.1)\n",
            "Installing collected packages: pyngrok\n",
            "Successfully installed pyngrok-7.1.0\n",
            "Authtoken saved to configuration file: /root/.config/ngrok/ngrok.yml\n"
          ]
        }
      ]
    },
    {
      "cell_type": "code",
      "source": [
        "%%writefile app.py\n",
        "\n",
        "import pickle\n",
        "import streamlit as st\n",
        "\n",
        "# loading the trained model\n",
        "pickle_in = open('classifier.pkl', 'rb')\n",
        "classifier = pickle.load(pickle_in)\n",
        "\n",
        "@st.cache()\n",
        "\n",
        "# defining the function which will make the prediction using the data which the user inputs\n",
        "def prediction(n):\n",
        "  prediction = classifier.predict([n])\n",
        "  if prediction == [0]:\n",
        "      pred = 'Negative Feedback'\n",
        "  else:\n",
        "      pred = 'Positive Feedback'\n",
        "  return pred\n",
        "def main():\n",
        "    html_temp = \"\"\"\n",
        "    <div style =\"background-color:red;padding:13px\">\n",
        "    <h1 style =\"color:black;text-align:center;\">Streamlit Restaurant Review Prediction ML App</h1>\n",
        "    </div>\n",
        "    \"\"\"\n",
        "    result =\"\"\n",
        "    st.markdown(html_temp, unsafe_allow_html = True)\n",
        "    n = st.text_input(\"label goes here\")\n",
        "    if st.button(\"Predict\"):\n",
        "      result = prediction(n)\n",
        "      st.success(result)\n",
        "\n",
        "if __name__=='__main__':\n",
        "    main()"
      ],
      "metadata": {
        "colab": {
          "base_uri": "https://localhost:8080/"
        },
        "id": "vQPHU0Sz0FCO",
        "outputId": "4f6637a0-0570-47ac-d523-15c65e25c535"
      },
      "execution_count": 47,
      "outputs": [
        {
          "output_type": "stream",
          "name": "stdout",
          "text": [
            "Writing app.py\n"
          ]
        }
      ]
    },
    {
      "cell_type": "code",
      "source": [
        "!streamlit run app.py &>/dev/null&"
      ],
      "metadata": {
        "id": "pM73FYjs1r9L"
      },
      "execution_count": 48,
      "outputs": []
    },
    {
      "cell_type": "code",
      "source": [
        "from pyngrok import ngrok\n",
        "\n",
        "public_url = ngrok.connect('8501')\n",
        "public_url"
      ],
      "metadata": {
        "colab": {
          "base_uri": "https://localhost:8080/"
        },
        "id": "ZxQR74p81ukZ",
        "outputId": "5280c32c-54f5-4771-d26b-703f5403ebba"
      },
      "execution_count": 49,
      "outputs": [
        {
          "output_type": "execute_result",
          "data": {
            "text/plain": [
              "<NgrokTunnel: \"https://b299-34-32-183-190.ngrok-free.app\" -> \"http://localhost:8501\">"
            ]
          },
          "metadata": {},
          "execution_count": 49
        }
      ]
    }
  ]
}